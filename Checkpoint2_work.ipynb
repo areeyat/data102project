{
  "nbformat": 4,
  "nbformat_minor": 0,
  "metadata": {
    "colab": {
      "provenance": [],
      "authorship_tag": "ABX9TyPrI1IxkgB11nXaHCzhGT8x",
      "include_colab_link": true
    },
    "kernelspec": {
      "name": "python3",
      "display_name": "Python 3"
    },
    "language_info": {
      "name": "python"
    }
  },
  "cells": [
    {
      "cell_type": "markdown",
      "metadata": {
        "id": "view-in-github",
        "colab_type": "text"
      },
      "source": [
        "<a href=\"https://colab.research.google.com/github/nlemoff/data102project/blob/main/Checkpoint2_work.ipynb\" target=\"_parent\"><img src=\"https://colab.research.google.com/assets/colab-badge.svg\" alt=\"Open In Colab\"/></a>"
      ]
    },
    {
      "cell_type": "code",
      "execution_count": 53,
      "metadata": {
        "id": "U5ebu7eEjxuH"
      },
      "outputs": [],
      "source": [
        "import pandas as pd\n",
        "\n",
        "emissions_df = pd.read_csv('state_emissions.csv')\n",
        "energy_df = pd.read_csv('state_wise_energy_all_sectors.csv')\n",
        "temperature_df = pd.read_csv('temperature_data_2023.csv')"
      ]
    },
    {
      "cell_type": "code",
      "source": [
        "ca_2023_emissions_clean = ca_2023_emissions[\n",
        "    (ca_2023_emissions['stateid'] == 'CA') &\n",
        "    (ca_2023_emissions['fuelid'] == 'ALL')\n",
        "][['period', 'co2-thousand-metric-tons']]\n",
        "\n",
        "print(\"Cleaned emissions data:\")\n",
        "print(ca_2023_emissions_clean)\n",
        "print(\"\\nData types:\")\n",
        "print(ca_2023_emissions_clean.dtypes)"
      ],
      "metadata": {
        "colab": {
          "base_uri": "https://localhost:8080/",
          "height": 0
        },
        "id": "0Q838OXsoGgr",
        "outputId": "0538d0e5-3aad-496e-9c7b-92172135df2a"
      },
      "execution_count": 54,
      "outputs": [
        {
          "output_type": "stream",
          "name": "stdout",
          "text": [
            "Cleaned emissions data:\n",
            "     period  co2-thousand-metric-tons\n",
            "240    2023                     43360\n",
            "\n",
            "Data types:\n",
            "period                      int64\n",
            "co2-thousand-metric-tons    int64\n",
            "dtype: object\n"
          ]
        }
      ]
    },
    {
      "cell_type": "code",
      "source": [
        "ca_2023_emissions_clean"
      ],
      "metadata": {
        "colab": {
          "base_uri": "https://localhost:8080/",
          "height": 89
        },
        "id": "lAkrmQdLmMk0",
        "outputId": "d1f584e5-5f5f-4d4d-8154-96ede625768c"
      },
      "execution_count": 55,
      "outputs": [
        {
          "output_type": "execute_result",
          "data": {
            "text/plain": [
              "     period  co2-thousand-metric-tons\n",
              "240    2023                     43360"
            ],
            "text/html": [
              "\n",
              "  <div id=\"df-15dbb960-c8ef-48e3-9dba-e9e54bc083e6\" class=\"colab-df-container\">\n",
              "    <div>\n",
              "<style scoped>\n",
              "    .dataframe tbody tr th:only-of-type {\n",
              "        vertical-align: middle;\n",
              "    }\n",
              "\n",
              "    .dataframe tbody tr th {\n",
              "        vertical-align: top;\n",
              "    }\n",
              "\n",
              "    .dataframe thead th {\n",
              "        text-align: right;\n",
              "    }\n",
              "</style>\n",
              "<table border=\"1\" class=\"dataframe\">\n",
              "  <thead>\n",
              "    <tr style=\"text-align: right;\">\n",
              "      <th></th>\n",
              "      <th>period</th>\n",
              "      <th>co2-thousand-metric-tons</th>\n",
              "    </tr>\n",
              "  </thead>\n",
              "  <tbody>\n",
              "    <tr>\n",
              "      <th>240</th>\n",
              "      <td>2023</td>\n",
              "      <td>43360</td>\n",
              "    </tr>\n",
              "  </tbody>\n",
              "</table>\n",
              "</div>\n",
              "    <div class=\"colab-df-buttons\">\n",
              "\n",
              "  <div class=\"colab-df-container\">\n",
              "    <button class=\"colab-df-convert\" onclick=\"convertToInteractive('df-15dbb960-c8ef-48e3-9dba-e9e54bc083e6')\"\n",
              "            title=\"Convert this dataframe to an interactive table.\"\n",
              "            style=\"display:none;\">\n",
              "\n",
              "  <svg xmlns=\"http://www.w3.org/2000/svg\" height=\"24px\" viewBox=\"0 -960 960 960\">\n",
              "    <path d=\"M120-120v-720h720v720H120Zm60-500h600v-160H180v160Zm220 220h160v-160H400v160Zm0 220h160v-160H400v160ZM180-400h160v-160H180v160Zm440 0h160v-160H620v160ZM180-180h160v-160H180v160Zm440 0h160v-160H620v160Z\"/>\n",
              "  </svg>\n",
              "    </button>\n",
              "\n",
              "  <style>\n",
              "    .colab-df-container {\n",
              "      display:flex;\n",
              "      gap: 12px;\n",
              "    }\n",
              "\n",
              "    .colab-df-convert {\n",
              "      background-color: #E8F0FE;\n",
              "      border: none;\n",
              "      border-radius: 50%;\n",
              "      cursor: pointer;\n",
              "      display: none;\n",
              "      fill: #1967D2;\n",
              "      height: 32px;\n",
              "      padding: 0 0 0 0;\n",
              "      width: 32px;\n",
              "    }\n",
              "\n",
              "    .colab-df-convert:hover {\n",
              "      background-color: #E2EBFA;\n",
              "      box-shadow: 0px 1px 2px rgba(60, 64, 67, 0.3), 0px 1px 3px 1px rgba(60, 64, 67, 0.15);\n",
              "      fill: #174EA6;\n",
              "    }\n",
              "\n",
              "    .colab-df-buttons div {\n",
              "      margin-bottom: 4px;\n",
              "    }\n",
              "\n",
              "    [theme=dark] .colab-df-convert {\n",
              "      background-color: #3B4455;\n",
              "      fill: #D2E3FC;\n",
              "    }\n",
              "\n",
              "    [theme=dark] .colab-df-convert:hover {\n",
              "      background-color: #434B5C;\n",
              "      box-shadow: 0px 1px 3px 1px rgba(0, 0, 0, 0.15);\n",
              "      filter: drop-shadow(0px 1px 2px rgba(0, 0, 0, 0.3));\n",
              "      fill: #FFFFFF;\n",
              "    }\n",
              "  </style>\n",
              "\n",
              "    <script>\n",
              "      const buttonEl =\n",
              "        document.querySelector('#df-15dbb960-c8ef-48e3-9dba-e9e54bc083e6 button.colab-df-convert');\n",
              "      buttonEl.style.display =\n",
              "        google.colab.kernel.accessAllowed ? 'block' : 'none';\n",
              "\n",
              "      async function convertToInteractive(key) {\n",
              "        const element = document.querySelector('#df-15dbb960-c8ef-48e3-9dba-e9e54bc083e6');\n",
              "        const dataTable =\n",
              "          await google.colab.kernel.invokeFunction('convertToInteractive',\n",
              "                                                    [key], {});\n",
              "        if (!dataTable) return;\n",
              "\n",
              "        const docLinkHtml = 'Like what you see? Visit the ' +\n",
              "          '<a target=\"_blank\" href=https://colab.research.google.com/notebooks/data_table.ipynb>data table notebook</a>'\n",
              "          + ' to learn more about interactive tables.';\n",
              "        element.innerHTML = '';\n",
              "        dataTable['output_type'] = 'display_data';\n",
              "        await google.colab.output.renderOutput(dataTable, element);\n",
              "        const docLink = document.createElement('div');\n",
              "        docLink.innerHTML = docLinkHtml;\n",
              "        element.appendChild(docLink);\n",
              "      }\n",
              "    </script>\n",
              "  </div>\n",
              "\n",
              "\n",
              "  <div id=\"id_0c768ffc-a437-4b9e-9900-294f8b26816c\">\n",
              "    <style>\n",
              "      .colab-df-generate {\n",
              "        background-color: #E8F0FE;\n",
              "        border: none;\n",
              "        border-radius: 50%;\n",
              "        cursor: pointer;\n",
              "        display: none;\n",
              "        fill: #1967D2;\n",
              "        height: 32px;\n",
              "        padding: 0 0 0 0;\n",
              "        width: 32px;\n",
              "      }\n",
              "\n",
              "      .colab-df-generate:hover {\n",
              "        background-color: #E2EBFA;\n",
              "        box-shadow: 0px 1px 2px rgba(60, 64, 67, 0.3), 0px 1px 3px 1px rgba(60, 64, 67, 0.15);\n",
              "        fill: #174EA6;\n",
              "      }\n",
              "\n",
              "      [theme=dark] .colab-df-generate {\n",
              "        background-color: #3B4455;\n",
              "        fill: #D2E3FC;\n",
              "      }\n",
              "\n",
              "      [theme=dark] .colab-df-generate:hover {\n",
              "        background-color: #434B5C;\n",
              "        box-shadow: 0px 1px 3px 1px rgba(0, 0, 0, 0.15);\n",
              "        filter: drop-shadow(0px 1px 2px rgba(0, 0, 0, 0.3));\n",
              "        fill: #FFFFFF;\n",
              "      }\n",
              "    </style>\n",
              "    <button class=\"colab-df-generate\" onclick=\"generateWithVariable('ca_2023_emissions_clean')\"\n",
              "            title=\"Generate code using this dataframe.\"\n",
              "            style=\"display:none;\">\n",
              "\n",
              "  <svg xmlns=\"http://www.w3.org/2000/svg\" height=\"24px\"viewBox=\"0 0 24 24\"\n",
              "       width=\"24px\">\n",
              "    <path d=\"M7,19H8.4L18.45,9,17,7.55,7,17.6ZM5,21V16.75L18.45,3.32a2,2,0,0,1,2.83,0l1.4,1.43a1.91,1.91,0,0,1,.58,1.4,1.91,1.91,0,0,1-.58,1.4L9.25,21ZM18.45,9,17,7.55Zm-12,3A5.31,5.31,0,0,0,4.9,8.1,5.31,5.31,0,0,0,1,6.5,5.31,5.31,0,0,0,4.9,4.9,5.31,5.31,0,0,0,6.5,1,5.31,5.31,0,0,0,8.1,4.9,5.31,5.31,0,0,0,12,6.5,5.46,5.46,0,0,0,6.5,12Z\"/>\n",
              "  </svg>\n",
              "    </button>\n",
              "    <script>\n",
              "      (() => {\n",
              "      const buttonEl =\n",
              "        document.querySelector('#id_0c768ffc-a437-4b9e-9900-294f8b26816c button.colab-df-generate');\n",
              "      buttonEl.style.display =\n",
              "        google.colab.kernel.accessAllowed ? 'block' : 'none';\n",
              "\n",
              "      buttonEl.onclick = () => {\n",
              "        google.colab.notebook.generateWithVariable('ca_2023_emissions_clean');\n",
              "      }\n",
              "      })();\n",
              "    </script>\n",
              "  </div>\n",
              "\n",
              "    </div>\n",
              "  </div>\n"
            ],
            "application/vnd.google.colaboratory.intrinsic+json": {
              "type": "dataframe",
              "variable_name": "ca_2023_emissions_clean",
              "summary": "{\n  \"name\": \"ca_2023_emissions_clean\",\n  \"rows\": 1,\n  \"fields\": [\n    {\n      \"column\": \"period\",\n      \"properties\": {\n        \"dtype\": \"number\",\n        \"std\": null,\n        \"min\": 2023,\n        \"max\": 2023,\n        \"num_unique_values\": 1,\n        \"samples\": [\n          2023\n        ],\n        \"semantic_type\": \"\",\n        \"description\": \"\"\n      }\n    },\n    {\n      \"column\": \"co2-thousand-metric-tons\",\n      \"properties\": {\n        \"dtype\": \"number\",\n        \"std\": null,\n        \"min\": 43360,\n        \"max\": 43360,\n        \"num_unique_values\": 1,\n        \"samples\": [\n          43360\n        ],\n        \"semantic_type\": \"\",\n        \"description\": \"\"\n      }\n    }\n  ]\n}"
            }
          },
          "metadata": {},
          "execution_count": 55
        }
      ]
    },
    {
      "cell_type": "code",
      "source": [
        "# Convert to Celsius and handle missing months\n",
        "monthly_temp['value'] = (monthly_temp['value'] - 32) * 5/9  # Convert F to C\n",
        "\n",
        "# Create a complete month range\n",
        "all_months = pd.date_range(start='2023-01-01', end='2023-12-31', freq='M')\n",
        "all_months_df = pd.DataFrame({'month': all_months.strftime('%Y-%m')})\n",
        "\n",
        "monthly_temp_complete = pd.merge(all_months_df, monthly_temp, on='month', how='left')\n",
        "\n",
        "print(\"Monthly average temperatures (Celsius):\")\n",
        "print(monthly_temp_complete)\n",
        "print(\"\\nMissing months:\")\n",
        "print(monthly_temp_complete[monthly_temp_complete['value'].isna()])"
      ],
      "metadata": {
        "colab": {
          "base_uri": "https://localhost:8080/",
          "height": 0
        },
        "id": "BuHfI-KSnqkc",
        "outputId": "363d951b-e4dc-424e-816b-7121a90e488d"
      },
      "execution_count": 56,
      "outputs": [
        {
          "output_type": "stream",
          "name": "stdout",
          "text": [
            "Monthly average temperatures (Celsius):\n",
            "      month      value\n",
            "0   2023-01 -13.448414\n",
            "1   2023-02 -13.916534\n",
            "2   2023-03 -12.855322\n",
            "3   2023-04   5.693658\n",
            "4   2023-05  15.429503\n",
            "5   2023-06  23.959391\n",
            "6   2023-07  45.689343\n",
            "7   2023-08  40.441128\n",
            "8   2023-09  26.452321\n",
            "9   2023-10  18.625632\n",
            "10  2023-11   2.150191\n",
            "11  2023-12  -3.581983\n",
            "\n",
            "Missing months:\n",
            "Empty DataFrame\n",
            "Columns: [month, value]\n",
            "Index: []\n"
          ]
        },
        {
          "output_type": "stream",
          "name": "stderr",
          "text": [
            "<ipython-input-56-bbe2e4197c56>:5: FutureWarning: 'M' is deprecated and will be removed in a future version, please use 'ME' instead.\n",
            "  all_months = pd.date_range(start='2023-01-01', end='2023-12-31', freq='M')\n"
          ]
        }
      ]
    },
    {
      "cell_type": "code",
      "source": [
        "# Check energy data\n",
        "print(\"Energy consumption data:\")\n",
        "print(energy_df[energy_df['stateid'] == 'CA'][['period', 'sales']].head(12))\n",
        "print(\"\\nData types:\")\n",
        "print(energy_df.dtypes)"
      ],
      "metadata": {
        "colab": {
          "base_uri": "https://localhost:8080/",
          "height": 0
        },
        "id": "ionmmtVCq7s5",
        "outputId": "521be544-7c1b-4d16-dd7b-48d6dacfb470"
      },
      "execution_count": 57,
      "outputs": [
        {
          "output_type": "stream",
          "name": "stdout",
          "text": [
            "Energy consumption data:\n",
            "     period        sales\n",
            "0   2024-01  20040.74935\n",
            "1   2023-12  18660.12634\n",
            "2   2023-11  18479.20564\n",
            "3   2023-10  20390.47299\n",
            "4   2023-09  22466.03859\n",
            "5   2023-08  25101.55563\n",
            "6   2023-07  23048.26218\n",
            "7   2023-06  19333.43379\n",
            "8   2023-05  18288.41200\n",
            "9   2023-04  16261.33366\n",
            "10  2023-03  19506.41869\n",
            "11  2023-02  17440.48579\n",
            "\n",
            "Data types:\n",
            "period               object\n",
            "stateid              object\n",
            "stateDescription     object\n",
            "sectorid             object\n",
            "sectorName           object\n",
            "sales               float64\n",
            "sales-units          object\n",
            "dtype: object\n"
          ]
        }
      ]
    },
    {
      "cell_type": "code",
      "source": [
        "# only include 2023\n",
        "energy_clean = energy_df[\n",
        "    (energy_df['stateid'] == 'CA') &\n",
        "    (energy_df['period'].str.startswith('2023'))\n",
        "].copy()\n",
        "\n",
        "energy_clean['month'] = pd.to_datetime(energy_clean['period']).dt.strftime('%Y-%m')\n",
        "final_df = pd.merge(monthly_temp, energy_clean[['month', 'sales']], on='month')\n",
        "final_df = final_df.rename(columns={'value': 'temperature', 'sales': 'energy_demand'})\n",
        "final_df['emissions'] = ca_2023_emissions_clean['co2-thousand-metric-tons'].values[0] / 12\n",
        "\n",
        "print(\"Final dataset for causal analysis:\")\n",
        "print(final_df)\n",
        "print(\"\\nData types:\")\n",
        "print(final_df.dtypes)\n",
        "\n",
        "# Basic correlations\n",
        "print(\"\\nCorrelations:\")\n",
        "print(final_df[['temperature', 'energy_demand', 'emissions']].corr())"
      ],
      "metadata": {
        "colab": {
          "base_uri": "https://localhost:8080/",
          "height": 0
        },
        "id": "SaU4WNPNrJhw",
        "outputId": "494e04a3-b4f7-4284-c2ef-b4bcdb01e777"
      },
      "execution_count": 58,
      "outputs": [
        {
          "output_type": "stream",
          "name": "stdout",
          "text": [
            "Final dataset for causal analysis:\n",
            "      month  temperature  energy_demand    emissions\n",
            "0   2023-01   -13.448414    20504.70675  3613.333333\n",
            "1   2023-02   -13.916534    17440.48579  3613.333333\n",
            "2   2023-03   -12.855322    19506.41869  3613.333333\n",
            "3   2023-04     5.693658    16261.33366  3613.333333\n",
            "4   2023-05    15.429503    18288.41200  3613.333333\n",
            "5   2023-06    23.959391    19333.43379  3613.333333\n",
            "6   2023-07    45.689343    23048.26218  3613.333333\n",
            "7   2023-08    40.441128    25101.55563  3613.333333\n",
            "8   2023-09    26.452321    22466.03859  3613.333333\n",
            "9   2023-10    18.625632    20390.47299  3613.333333\n",
            "10  2023-11     2.150191    18479.20564  3613.333333\n",
            "11  2023-12    -3.581983    18660.12634  3613.333333\n",
            "\n",
            "Data types:\n",
            "month             object\n",
            "temperature      float64\n",
            "energy_demand    float64\n",
            "emissions        float64\n",
            "dtype: object\n",
            "\n",
            "Correlations:\n",
            "               temperature  energy_demand  emissions\n",
            "temperature       1.000000       0.694786        NaN\n",
            "energy_demand     0.694786       1.000000        NaN\n",
            "emissions              NaN            NaN        NaN\n"
          ]
        }
      ]
    },
    {
      "cell_type": "code",
      "source": [
        "from statsmodels.stats.outliers_influence import variance_inflation_factor\n",
        "from statsmodels.regression.linear_model import OLS\n",
        "import statsmodels.api as sm\n",
        "\n",
        "X_first = sm.add_constant(final_df['temperature'])\n",
        "first_stage = sm.OLS(final_df['energy_demand'], X_first).fit()\n",
        "\n",
        "energy_demand_predicted = first_stage.predict(X_first)\n",
        "\n",
        "print(\"First Stage Results (Temperature -> Energy Demand):\")\n",
        "print(first_stage.summary().tables[1])\n",
        "\n",
        "import matplotlib.pyplot as plt\n",
        "\n",
        "# Plot actual vs predicted energy demand\n",
        "plt.figure(figsize=(10, 6))\n",
        "plt.scatter(final_df['temperature'], final_df['energy_demand'], alpha=0.5, label='Actual')\n",
        "plt.plot(final_df['temperature'], energy_demand_predicted, color='red', label='Predicted')\n",
        "plt.xlabel('Temperature (Celsius)')\n",
        "plt.ylabel('Energy Demand (million kWh)')\n",
        "plt.title('Temperature vs Energy Demand: First Stage Relationship')\n",
        "plt.legend()\n",
        "plt.show()\n",
        "\n",
        "# Plot residuals\n",
        "residuals = first_stage.resid\n",
        "plt.figure(figsize=(10, 6))\n",
        "plt.scatter(energy_demand_predicted, residuals)\n",
        "plt.axhline(y=0, color='r', linestyle='--')\n",
        "plt.xlabel('Predicted Energy Demand')\n",
        "plt.ylabel('Residuals')\n",
        "plt.title('First Stage Residual Plot')\n",
        "plt.show()"
      ],
      "metadata": {
        "colab": {
          "base_uri": "https://localhost:8080/",
          "height": 1018
        },
        "id": "GWIASz3CrOAH",
        "outputId": "f72a1b59-e38c-43cd-9513-e79ae379fdb6"
      },
      "execution_count": 59,
      "outputs": [
        {
          "output_type": "stream",
          "name": "stdout",
          "text": [
            "First Stage Results (Temperature -> Energy Demand):\n",
            "===============================================================================\n",
            "                  coef    std err          t      P>|t|      [0.025      0.975]\n",
            "-------------------------------------------------------------------------------\n",
            "const          1.9e+04    632.266     30.052      0.000    1.76e+04    2.04e+04\n",
            "temperature    85.1703     27.880      3.055      0.012      23.049     147.292\n",
            "===============================================================================\n"
          ]
        },
        {
          "output_type": "stream",
          "name": "stderr",
          "text": [
            "/usr/local/lib/python3.10/dist-packages/scipy/stats/_axis_nan_policy.py:531: UserWarning: kurtosistest only valid for n>=20 ... continuing anyway, n=12\n",
            "  res = hypotest_fun_out(*samples, **kwds)\n"
          ]
        },
        {
          "output_type": "display_data",
          "data": {
            "text/plain": [
              "<Figure size 1000x600 with 1 Axes>"
            ],
            "image/png": "[encoded data removed]"
          },
          "metadata": {}
        },
        {
          "output_type": "display_data",
          "data": {
            "text/plain": [
              "<Figure size 1000x600 with 1 Axes>"
            ],
            "image/png": "[encoded data removed]"
          },
          "metadata": {}
        }
      ]
    },
    {
      "cell_type": "code",
      "source": [
        "# Second stage regression\n",
        "X_second = sm.add_constant(energy_demand_predicted)\n",
        "second_stage = sm.OLS(final_df['emissions'], X_second).fit()\n",
        "print(second_stage.summary())\n"
      ],
      "metadata": {
        "colab": {
          "base_uri": "https://localhost:8080/",
          "height": 0
        },
        "id": "Fie3o54IrUhW",
        "outputId": "11010113-dfe6-4c13-90b1-5e4c8fcd2175"
      },
      "execution_count": 60,
      "outputs": [
        {
          "output_type": "stream",
          "name": "stdout",
          "text": [
            "                            OLS Regression Results                            \n",
            "==============================================================================\n",
            "Dep. Variable:              emissions   R-squared:                    -149.583\n",
            "Model:                            OLS   Adj. R-squared:               -164.642\n",
            "Method:                 Least Squares   F-statistic:                    -9.934\n",
            "Date:                Fri, 06 Dec 2024   Prob (F-statistic):               1.00\n",
            "Time:                        20:38:20   Log-Likelihood:                 293.91\n",
            "No. Observations:                  12   AIC:                            -583.8\n",
            "Df Residuals:                      10   BIC:                            -582.9\n",
            "Df Model:                           1                                         \n",
            "Covariance Type:            nonrobust                                         \n",
            "==============================================================================\n",
            "                 coef    std err          t      P>|t|      [0.025      0.975]\n",
            "------------------------------------------------------------------------------\n",
            "const       3613.3333   2.11e-11   1.72e+14      0.000    3613.333    3613.333\n",
            "0          -1.527e-16   1.05e-15     -0.145      0.887    -2.5e-15    2.19e-15\n",
            "==============================================================================\n",
            "Omnibus:                        1.084   Durbin-Watson:                   0.002\n",
            "Prob(Omnibus):                  0.582   Jarque-Bera (JB):                0.854\n",
            "Skew:                           0.416   Prob(JB):                        0.653\n",
            "Kurtosis:                       1.992   Cond. No.                     2.39e+05\n",
            "==============================================================================\n",
            "\n",
            "Notes:\n",
            "[1] Standard Errors assume that the covariance matrix of the errors is correctly specified.\n",
            "[2] The condition number is large, 2.39e+05. This might indicate that there are\n",
            "strong multicollinearity or other numerical problems.\n"
          ]
        },
        {
          "output_type": "stream",
          "name": "stderr",
          "text": [
            "/usr/local/lib/python3.10/dist-packages/scipy/stats/_axis_nan_policy.py:531: UserWarning: kurtosistest only valid for n>=20 ... continuing anyway, n=12\n",
            "  res = hypotest_fun_out(*samples, **kwds)\n"
          ]
        }
      ]
    },
    {
      "cell_type": "markdown",
      "source": [
        "let's try distributing emissions proportionally\n"
      ],
      "metadata": {
        "id": "iJl_Hxo9snAb"
      }
    },
    {
      "cell_type": "code",
      "source": [
        "# Distribute annual emissions based on energy demand\n",
        "total_energy = energy_clean['sales'].sum()  # Total energy demand for 2023\n",
        "final_df['emissions'] = final_df['energy_demand'] / total_energy * ca_2023_emissions_clean['co2-thousand-metric-tons'].values[0]\n",
        "\n",
        "print(\"Updated emissions data:\")\n",
        "print(final_df[['month', 'emissions']])\n"
      ],
      "metadata": {
        "colab": {
          "base_uri": "https://localhost:8080/",
          "height": 0
        },
        "id": "C9EnhSUlssPb",
        "outputId": "1e4854b0-0a1b-4ac0-f2cf-82a4eafdc3ac"
      },
      "execution_count": 61,
      "outputs": [
        {
          "output_type": "stream",
          "name": "stdout",
          "text": [
            "Updated emissions data:\n",
            "      month    emissions\n",
            "0   2023-01  3712.553894\n",
            "1   2023-02  3157.750277\n",
            "2   2023-03  3531.805236\n",
            "3   2023-04  2944.254621\n",
            "4   2023-05  3311.274626\n",
            "5   2023-06  3500.484829\n",
            "6   2023-07  4173.086528\n",
            "7   2023-08  4544.853005\n",
            "8   2023-09  4067.669928\n",
            "9   2023-10  3691.870887\n",
            "10  2023-11  3345.819459\n",
            "11  2023-12  3378.576711\n"
          ]
        }
      ]
    },
    {
      "cell_type": "code",
      "source": [
        "# Add squared temperature term for non-linear effects\n",
        "final_df['temperature_squared'] = final_df['temperature'] ** 2\n",
        "\n",
        "# First-stage regression (include non-linear term)\n",
        "X_first = sm.add_constant(final_df[['temperature', 'temperature_squared']])\n",
        "first_stage = sm.OLS(final_df['energy_demand'], X_first).fit()\n",
        "\n",
        "# Predict energy demand\n",
        "final_df['energy_demand_predicted'] = first_stage.predict(X_first)\n",
        "\n",
        "# Second-stage regression\n",
        "X_second = sm.add_constant(final_df['energy_demand_predicted'])\n",
        "second_stage = sm.OLS(final_df['emissions'], X_second).fit()\n",
        "\n",
        "# Print results\n",
        "print(\"Second Stage Results (Energy Demand -> Emissions):\")\n",
        "print(second_stage.summary())\n"
      ],
      "metadata": {
        "colab": {
          "base_uri": "https://localhost:8080/",
          "height": 0
        },
        "id": "pkLRl_BCss42",
        "outputId": "71b1885d-4a57-4c7f-cd84-47a5413965a0"
      },
      "execution_count": 63,
      "outputs": [
        {
          "output_type": "stream",
          "name": "stdout",
          "text": [
            "Second Stage Results (Energy Demand -> Emissions):\n",
            "                            OLS Regression Results                            \n",
            "==============================================================================\n",
            "Dep. Variable:              emissions   R-squared:                       0.685\n",
            "Model:                            OLS   Adj. R-squared:                  0.653\n",
            "Method:                 Least Squares   F-statistic:                     21.72\n",
            "Date:                Fri, 06 Dec 2024   Prob (F-statistic):           0.000893\n",
            "Time:                        20:40:23   Log-Likelihood:                -83.071\n",
            "No. Observations:                  12   AIC:                             170.1\n",
            "Df Residuals:                      10   BIC:                             171.1\n",
            "Df Model:                           1                                         \n",
            "Covariance Type:            nonrobust                                         \n",
            "===========================================================================================\n",
            "                              coef    std err          t      P>|t|      [0.025      0.975]\n",
            "-------------------------------------------------------------------------------------------\n",
            "const                    5.684e-12    779.140    7.3e-15      1.000   -1736.033    1736.033\n",
            "energy_demand_predicted     0.1811      0.039      4.661      0.001       0.095       0.268\n",
            "==============================================================================\n",
            "Omnibus:                        1.933   Durbin-Watson:                   1.764\n",
            "Prob(Omnibus):                  0.380   Jarque-Bera (JB):                0.891\n",
            "Skew:                          -0.138   Prob(JB):                        0.640\n",
            "Kurtosis:                       1.694   Cond. No.                     2.01e+05\n",
            "==============================================================================\n",
            "\n",
            "Notes:\n",
            "[1] Standard Errors assume that the covariance matrix of the errors is correctly specified.\n",
            "[2] The condition number is large, 2.01e+05. This might indicate that there are\n",
            "strong multicollinearity or other numerical problems.\n"
          ]
        },
        {
          "output_type": "stream",
          "name": "stderr",
          "text": [
            "/usr/local/lib/python3.10/dist-packages/scipy/stats/_axis_nan_policy.py:531: UserWarning: kurtosistest only valid for n>=20 ... continuing anyway, n=12\n",
            "  res = hypotest_fun_out(*samples, **kwds)\n"
          ]
        }
      ]
    },
    {
      "cell_type": "code",
      "source": [
        "# Residuals of second stage\n",
        "residuals = second_stage.resid\n",
        "\n",
        "# Residual plot\n",
        "plt.scatter(final_df['energy_demand_predicted'], residuals, alpha=0.5)\n",
        "plt.axhline(0, color='red', linestyle='--')\n",
        "plt.xlabel('Predicted Energy Demand')\n",
        "plt.ylabel('Residuals')\n",
        "plt.title('Residual Plot: Energy Demand -> Emissions')\n",
        "plt.show()\n",
        "\n",
        "# Breusch-Pagan test\n",
        "from statsmodels.stats.diagnostic import het_breuschpagan\n",
        "bp_test = het_breuschpagan(residuals, X_second)\n",
        "print(\"Breusch-Pagan Test Results:\", bp_test)\n"
      ],
      "metadata": {
        "colab": {
          "base_uri": "https://localhost:8080/",
          "height": 489
        },
        "id": "g1xeofj_su4M",
        "outputId": "e8705aad-9837-4622-cb6d-a3b0200bfcc0"
      },
      "execution_count": 64,
      "outputs": [
        {
          "output_type": "display_data",
          "data": {
            "text/plain": [
              "<Figure size 640x480 with 1 Axes>"
            ],
            "image/png": "[encoded data removed]"
          },
          "metadata": {}
        },
        {
          "output_type": "stream",
          "name": "stdout",
          "text": [
            "Breusch-Pagan Test Results: (1.7468854626216337, 0.18626875264110246, 1.7037607999532765, 0.2210299914852364)\n"
          ]
        }
      ]
    },
    {
      "cell_type": "code",
      "source": [],
      "metadata": {
        "id": "zHB0GQg0s0aB"
      },
      "execution_count": null,
      "outputs": []
    }
  ]
}