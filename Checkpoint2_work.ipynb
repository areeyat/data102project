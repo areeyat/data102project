{
 "cells": [
  {
   "cell_type": "markdown",
   "metadata": {
    "colab_type": "text",
    "id": "view-in-github"
   },
   "source": [
    "<a href=\"https://colab.research.google.com/github/nlemoff/data102project/blob/main/Checkpoint2_work.ipynb\" target=\"_parent\"><img src=\"https://colab.research.google.com/assets/colab-badge.svg\" alt=\"Open In Colab\"/></a>"
   ]
  },
  {
   "cell_type": "code",
   "execution_count": 45,
   "metadata": {
    "id": "U5ebu7eEjxuH"
   },
   "outputs": [],
   "source": [
    "import pandas as pd\n",
    "\n",
    "emissions_df = pd.read_csv('state_emissions.csv')\n",
    "energy_df = pd.read_csv('state_wise_energy_all_sectors.csv')\n",
    "temperature_df = pd.read_csv('temperature_data_2023.csv')"
   ]
  },
  {
   "cell_type": "code",
   "execution_count": 46,
   "metadata": {},
   "outputs": [
    {
     "data": {
      "text/html": [
       "<div>\n",
       "<style scoped>\n",
       "    .dataframe tbody tr th:only-of-type {\n",
       "        vertical-align: middle;\n",
       "    }\n",
       "\n",
       "    .dataframe tbody tr th {\n",
       "        vertical-align: top;\n",
       "    }\n",
       "\n",
       "    .dataframe thead th {\n",
       "        text-align: right;\n",
       "    }\n",
       "</style>\n",
       "<table border=\"1\" class=\"dataframe\">\n",
       "  <thead>\n",
       "    <tr style=\"text-align: right;\">\n",
       "      <th></th>\n",
       "      <th>period</th>\n",
       "      <th>stateid</th>\n",
       "      <th>stateDescription</th>\n",
       "      <th>fuelid</th>\n",
       "      <th>fuelDescription</th>\n",
       "      <th>co2-rate-lbs-mwh</th>\n",
       "      <th>co2-thousand-metric-tons</th>\n",
       "      <th>nox-rate-lbs-mwh</th>\n",
       "      <th>nox-short-tons</th>\n",
       "      <th>so2-rate-lbs-mwh</th>\n",
       "      <th>so2-short-tons</th>\n",
       "      <th>co2-rate-lbs-mwh-units</th>\n",
       "      <th>co2-thousand-metric-tons-units</th>\n",
       "      <th>nox-rate-lbs-mwh-units</th>\n",
       "      <th>nox-short-tons-units</th>\n",
       "      <th>so2-rate-lbs-mwh-units</th>\n",
       "      <th>so2-short-tons-units</th>\n",
       "    </tr>\n",
       "  </thead>\n",
       "  <tbody>\n",
       "    <tr>\n",
       "      <th>0</th>\n",
       "      <td>2023</td>\n",
       "      <td>AZ</td>\n",
       "      <td>Arizona</td>\n",
       "      <td>COL</td>\n",
       "      <td>Coal</td>\n",
       "      <td>NaN</td>\n",
       "      <td>12863</td>\n",
       "      <td>NaN</td>\n",
       "      <td>9238</td>\n",
       "      <td>NaN</td>\n",
       "      <td>6854</td>\n",
       "      <td>pounds per megawatthour</td>\n",
       "      <td>thousand metric tons</td>\n",
       "      <td>pounds per megawatthour</td>\n",
       "      <td>short tons</td>\n",
       "      <td>pounds per megawatthour</td>\n",
       "      <td>short tons</td>\n",
       "    </tr>\n",
       "    <tr>\n",
       "      <th>1</th>\n",
       "      <td>2023</td>\n",
       "      <td>WY</td>\n",
       "      <td>Wyoming</td>\n",
       "      <td>ALL</td>\n",
       "      <td>Total</td>\n",
       "      <td>1864.0</td>\n",
       "      <td>36580</td>\n",
       "      <td>1.4</td>\n",
       "      <td>31178</td>\n",
       "      <td>1.1</td>\n",
       "      <td>24209</td>\n",
       "      <td>pounds per megawatthour</td>\n",
       "      <td>thousand metric tons</td>\n",
       "      <td>pounds per megawatthour</td>\n",
       "      <td>short tons</td>\n",
       "      <td>pounds per megawatthour</td>\n",
       "      <td>short tons</td>\n",
       "    </tr>\n",
       "    <tr>\n",
       "      <th>2</th>\n",
       "      <td>2023</td>\n",
       "      <td>WY</td>\n",
       "      <td>Wyoming</td>\n",
       "      <td>PET</td>\n",
       "      <td>Petroleum</td>\n",
       "      <td>NaN</td>\n",
       "      <td>37</td>\n",
       "      <td>NaN</td>\n",
       "      <td>22</td>\n",
       "      <td>NaN</td>\n",
       "      <td>13</td>\n",
       "      <td>pounds per megawatthour</td>\n",
       "      <td>thousand metric tons</td>\n",
       "      <td>pounds per megawatthour</td>\n",
       "      <td>short tons</td>\n",
       "      <td>pounds per megawatthour</td>\n",
       "      <td>short tons</td>\n",
       "    </tr>\n",
       "    <tr>\n",
       "      <th>3</th>\n",
       "      <td>2023</td>\n",
       "      <td>WY</td>\n",
       "      <td>Wyoming</td>\n",
       "      <td>OTH</td>\n",
       "      <td>Other</td>\n",
       "      <td>NaN</td>\n",
       "      <td>0</td>\n",
       "      <td>NaN</td>\n",
       "      <td>3436</td>\n",
       "      <td>NaN</td>\n",
       "      <td>8</td>\n",
       "      <td>pounds per megawatthour</td>\n",
       "      <td>thousand metric tons</td>\n",
       "      <td>pounds per megawatthour</td>\n",
       "      <td>short tons</td>\n",
       "      <td>pounds per megawatthour</td>\n",
       "      <td>short tons</td>\n",
       "    </tr>\n",
       "    <tr>\n",
       "      <th>4</th>\n",
       "      <td>2023</td>\n",
       "      <td>WY</td>\n",
       "      <td>Wyoming</td>\n",
       "      <td>NG</td>\n",
       "      <td>Natural Gas</td>\n",
       "      <td>NaN</td>\n",
       "      <td>1516</td>\n",
       "      <td>NaN</td>\n",
       "      <td>2489</td>\n",
       "      <td>NaN</td>\n",
       "      <td>9</td>\n",
       "      <td>pounds per megawatthour</td>\n",
       "      <td>thousand metric tons</td>\n",
       "      <td>pounds per megawatthour</td>\n",
       "      <td>short tons</td>\n",
       "      <td>pounds per megawatthour</td>\n",
       "      <td>short tons</td>\n",
       "    </tr>\n",
       "  </tbody>\n",
       "</table>\n",
       "</div>"
      ],
      "text/plain": [
       "   period stateid stateDescription fuelid fuelDescription  co2-rate-lbs-mwh  \\\n",
       "0    2023      AZ          Arizona    COL            Coal               NaN   \n",
       "1    2023      WY          Wyoming    ALL           Total            1864.0   \n",
       "2    2023      WY          Wyoming    PET       Petroleum               NaN   \n",
       "3    2023      WY          Wyoming    OTH           Other               NaN   \n",
       "4    2023      WY          Wyoming     NG     Natural Gas               NaN   \n",
       "\n",
       "   co2-thousand-metric-tons  nox-rate-lbs-mwh  nox-short-tons  \\\n",
       "0                     12863               NaN            9238   \n",
       "1                     36580               1.4           31178   \n",
       "2                        37               NaN              22   \n",
       "3                         0               NaN            3436   \n",
       "4                      1516               NaN            2489   \n",
       "\n",
       "   so2-rate-lbs-mwh  so2-short-tons   co2-rate-lbs-mwh-units  \\\n",
       "0               NaN            6854  pounds per megawatthour   \n",
       "1               1.1           24209  pounds per megawatthour   \n",
       "2               NaN              13  pounds per megawatthour   \n",
       "3               NaN               8  pounds per megawatthour   \n",
       "4               NaN               9  pounds per megawatthour   \n",
       "\n",
       "  co2-thousand-metric-tons-units   nox-rate-lbs-mwh-units  \\\n",
       "0           thousand metric tons  pounds per megawatthour   \n",
       "1           thousand metric tons  pounds per megawatthour   \n",
       "2           thousand metric tons  pounds per megawatthour   \n",
       "3           thousand metric tons  pounds per megawatthour   \n",
       "4           thousand metric tons  pounds per megawatthour   \n",
       "\n",
       "  nox-short-tons-units   so2-rate-lbs-mwh-units so2-short-tons-units  \n",
       "0           short tons  pounds per megawatthour           short tons  \n",
       "1           short tons  pounds per megawatthour           short tons  \n",
       "2           short tons  pounds per megawatthour           short tons  \n",
       "3           short tons  pounds per megawatthour           short tons  \n",
       "4           short tons  pounds per megawatthour           short tons  "
      ]
     },
     "execution_count": 46,
     "metadata": {},
     "output_type": "execute_result"
    }
   ],
   "source": [
    "emissions_df.head()"
   ]
  },
  {
   "cell_type": "code",
   "execution_count": 47,
   "metadata": {
    "colab": {
     "base_uri": "https://localhost:8080/",
     "height": 0
    },
    "id": "0Q838OXsoGgr",
    "outputId": "0538d0e5-3aad-496e-9c7b-92172135df2a"
   },
   "outputs": [
    {
     "name": "stdout",
     "output_type": "stream",
     "text": [
      "Cleaned emissions data:\n",
      "     period  co2-thousand-metric-tons\n",
      "240    2023                     43360\n",
      "\n",
      "Data types:\n",
      "period                      int64\n",
      "co2-thousand-metric-tons    int64\n",
      "dtype: object\n"
     ]
    }
   ],
   "source": [
    "ca_emissions = emissions_df[emissions_df['stateid'] == 'CA']\n",
    "ca_2023_emissions = ca_emissions[ca_emissions['period'] == 2023]\n",
    "ca_2023_emissions_clean = ca_2023_emissions[\n",
    "    (ca_2023_emissions['stateid'] == 'CA') &\n",
    "    (ca_2023_emissions['fuelid'] == 'ALL')\n",
    "][['period', 'co2-thousand-metric-tons']]\n",
    "\n",
    "print(\"Cleaned emissions data:\")\n",
    "print(ca_2023_emissions_clean)\n",
    "print(\"\\nData types:\")\n",
    "print(ca_2023_emissions_clean.dtypes)"
   ]
  },
  {
   "cell_type": "code",
   "execution_count": 48,
   "metadata": {
    "colab": {
     "base_uri": "https://localhost:8080/",
     "height": 89
    },
    "id": "lAkrmQdLmMk0",
    "outputId": "d1f584e5-5f5f-4d4d-8154-96ede625768c"
   },
   "outputs": [
    {
     "data": {
      "text/html": [
       "<div>\n",
       "<style scoped>\n",
       "    .dataframe tbody tr th:only-of-type {\n",
       "        vertical-align: middle;\n",
       "    }\n",
       "\n",
       "    .dataframe tbody tr th {\n",
       "        vertical-align: top;\n",
       "    }\n",
       "\n",
       "    .dataframe thead th {\n",
       "        text-align: right;\n",
       "    }\n",
       "</style>\n",
       "<table border=\"1\" class=\"dataframe\">\n",
       "  <thead>\n",
       "    <tr style=\"text-align: right;\">\n",
       "      <th></th>\n",
       "      <th>period</th>\n",
       "      <th>co2-thousand-metric-tons</th>\n",
       "    </tr>\n",
       "  </thead>\n",
       "  <tbody>\n",
       "    <tr>\n",
       "      <th>240</th>\n",
       "      <td>2023</td>\n",
       "      <td>43360</td>\n",
       "    </tr>\n",
       "  </tbody>\n",
       "</table>\n",
       "</div>"
      ],
      "text/plain": [
       "     period  co2-thousand-metric-tons\n",
       "240    2023                     43360"
      ]
     },
     "execution_count": 48,
     "metadata": {},
     "output_type": "execute_result"
    }
   ],
   "source": [
    "ca_2023_emissions_clean"
   ]
  },
  {
   "cell_type": "code",
   "execution_count": 49,
   "metadata": {},
   "outputs": [
    {
     "name": "stderr",
     "output_type": "stream",
     "text": [
      "C:\\Users\\keita\\AppData\\Local\\Temp\\ipykernel_19972\\495863311.py:1: FutureWarning: 'M' is deprecated and will be removed in a future version, please use 'ME' instead.\n",
      "  all_months = pd.date_range(start='2023-01-01', end='2023-12-31', freq='M')\n"
     ]
    },
    {
     "data": {
      "text/html": [
       "<div>\n",
       "<style scoped>\n",
       "    .dataframe tbody tr th:only-of-type {\n",
       "        vertical-align: middle;\n",
       "    }\n",
       "\n",
       "    .dataframe tbody tr th {\n",
       "        vertical-align: top;\n",
       "    }\n",
       "\n",
       "    .dataframe thead th {\n",
       "        text-align: right;\n",
       "    }\n",
       "</style>\n",
       "<table border=\"1\" class=\"dataframe\">\n",
       "  <thead>\n",
       "    <tr style=\"text-align: right;\">\n",
       "      <th></th>\n",
       "      <th>month</th>\n",
       "    </tr>\n",
       "  </thead>\n",
       "  <tbody>\n",
       "    <tr>\n",
       "      <th>0</th>\n",
       "      <td>2023-01</td>\n",
       "    </tr>\n",
       "    <tr>\n",
       "      <th>1</th>\n",
       "      <td>2023-02</td>\n",
       "    </tr>\n",
       "    <tr>\n",
       "      <th>2</th>\n",
       "      <td>2023-03</td>\n",
       "    </tr>\n",
       "    <tr>\n",
       "      <th>3</th>\n",
       "      <td>2023-04</td>\n",
       "    </tr>\n",
       "    <tr>\n",
       "      <th>4</th>\n",
       "      <td>2023-05</td>\n",
       "    </tr>\n",
       "  </tbody>\n",
       "</table>\n",
       "</div>"
      ],
      "text/plain": [
       "     month\n",
       "0  2023-01\n",
       "1  2023-02\n",
       "2  2023-03\n",
       "3  2023-04\n",
       "4  2023-05"
      ]
     },
     "execution_count": 49,
     "metadata": {},
     "output_type": "execute_result"
    }
   ],
   "source": [
    "all_months = pd.date_range(start='2023-01-01', end='2023-12-31', freq='M')\n",
    "all_months_df = pd.DataFrame({'month': all_months.strftime('%Y-%m')})\n",
    "all_months_df.head()"
   ]
  },
  {
   "cell_type": "code",
   "execution_count": 50,
   "metadata": {},
   "outputs": [
    {
     "data": {
      "text/html": [
       "<div>\n",
       "<style scoped>\n",
       "    .dataframe tbody tr th:only-of-type {\n",
       "        vertical-align: middle;\n",
       "    }\n",
       "\n",
       "    .dataframe tbody tr th {\n",
       "        vertical-align: top;\n",
       "    }\n",
       "\n",
       "    .dataframe thead th {\n",
       "        text-align: right;\n",
       "    }\n",
       "</style>\n",
       "<table border=\"1\" class=\"dataframe\">\n",
       "  <thead>\n",
       "    <tr style=\"text-align: right;\">\n",
       "      <th></th>\n",
       "      <th>date</th>\n",
       "      <th>datatype</th>\n",
       "      <th>station</th>\n",
       "      <th>attributes</th>\n",
       "      <th>value</th>\n",
       "    </tr>\n",
       "  </thead>\n",
       "  <tbody>\n",
       "    <tr>\n",
       "      <th>0</th>\n",
       "      <td>2023-01-01</td>\n",
       "      <td>TAVG</td>\n",
       "      <td>GHCND:USR0000CABS</td>\n",
       "      <td>,,U,</td>\n",
       "      <td>64</td>\n",
       "    </tr>\n",
       "    <tr>\n",
       "      <th>1</th>\n",
       "      <td>2023-01-01</td>\n",
       "      <td>TAVG</td>\n",
       "      <td>GHCND:USR0000CSFD</td>\n",
       "      <td>,,U,</td>\n",
       "      <td>123</td>\n",
       "    </tr>\n",
       "    <tr>\n",
       "      <th>2</th>\n",
       "      <td>2023-01-01</td>\n",
       "      <td>TAVG</td>\n",
       "      <td>GHCND:USR0000CSEC</td>\n",
       "      <td>,,U,</td>\n",
       "      <td>45</td>\n",
       "    </tr>\n",
       "    <tr>\n",
       "      <th>3</th>\n",
       "      <td>2023-01-01</td>\n",
       "      <td>TAVG</td>\n",
       "      <td>GHCND:USR0000CSDD</td>\n",
       "      <td>,,U,</td>\n",
       "      <td>-54</td>\n",
       "    </tr>\n",
       "    <tr>\n",
       "      <th>4</th>\n",
       "      <td>2023-01-01</td>\n",
       "      <td>TAVG</td>\n",
       "      <td>GHCND:USR0000CSDC</td>\n",
       "      <td>,,U,</td>\n",
       "      <td>29</td>\n",
       "    </tr>\n",
       "  </tbody>\n",
       "</table>\n",
       "</div>"
      ],
      "text/plain": [
       "         date datatype            station attributes  value\n",
       "0  2023-01-01     TAVG  GHCND:USR0000CABS       ,,U,     64\n",
       "1  2023-01-01     TAVG  GHCND:USR0000CSFD       ,,U,    123\n",
       "2  2023-01-01     TAVG  GHCND:USR0000CSEC       ,,U,     45\n",
       "3  2023-01-01     TAVG  GHCND:USR0000CSDD       ,,U,    -54\n",
       "4  2023-01-01     TAVG  GHCND:USR0000CSDC       ,,U,     29"
      ]
     },
     "execution_count": 50,
     "metadata": {},
     "output_type": "execute_result"
    }
   ],
   "source": [
    "temperature_df.head()"
   ]
  },
  {
   "cell_type": "code",
   "execution_count": 51,
   "metadata": {
    "colab": {
     "base_uri": "https://localhost:8080/",
     "height": 0
    },
    "id": "BuHfI-KSnqkc",
    "outputId": "363d951b-e4dc-424e-816b-7121a90e488d"
   },
   "outputs": [
    {
     "name": "stdout",
     "output_type": "stream",
     "text": [
      "Monthly average temperatures (Celsius):\n",
      "      month       value\n",
      "0   2023-01    6.022309\n",
      "1   2023-02    5.218220\n",
      "2   2023-03    8.954648\n",
      "3   2023-04   40.973069\n",
      "4   2023-05   59.024418\n",
      "5   2023-06   74.128738\n",
      "6   2023-07  113.862444\n",
      "7   2023-08  103.899591\n",
      "8   2023-09   79.073974\n",
      "9   2023-10   64.043716\n",
      "10  2023-11   35.190453\n",
      "11  2023-12   25.527321\n",
      "\n",
      "Missing months:\n",
      "Empty DataFrame\n",
      "Columns: [month, value]\n",
      "Index: []\n"
     ]
    },
    {
     "name": "stderr",
     "output_type": "stream",
     "text": [
      "C:\\Users\\keita\\AppData\\Local\\Temp\\ipykernel_19972\\2682075511.py:7: FutureWarning: 'M' is deprecated and will be removed in a future version, please use 'ME' instead.\n",
      "  all_months = pd.date_range(start='2023-01-01', end='2023-12-31', freq='M')\n"
     ]
    }
   ],
   "source": [
    "# Convert to Celsius and handle missing months\n",
    "temperature_df['month'] = temperature_df['date'].apply(lambda x: x[:7])\n",
    "monthly_temp = temperature_df[['month', 'value']].groupby('month').mean()\n",
    "monthly_temp['value'] = (monthly_temp['value'] - 32) * 5/9  # Convert F to C\n",
    "\n",
    "# Create a complete month range\n",
    "all_months = pd.date_range(start='2023-01-01', end='2023-12-31', freq='M')\n",
    "all_months_df = pd.DataFrame({'month': all_months.strftime('%Y-%m')})\n",
    "\n",
    "monthly_temp_complete = pd.merge(all_months_df, monthly_temp, on='month', how='left')\n",
    "\n",
    "print(\"Monthly average temperatures (Celsius):\")\n",
    "print(monthly_temp_complete)\n",
    "print(\"\\nMissing months:\")\n",
    "print(monthly_temp_complete[monthly_temp_complete['value'].isna()])"
   ]
  },
  {
   "cell_type": "code",
   "execution_count": 52,
   "metadata": {
    "colab": {
     "base_uri": "https://localhost:8080/",
     "height": 0
    },
    "id": "ionmmtVCq7s5",
    "outputId": "521be544-7c1b-4d16-dd7b-48d6dacfb470"
   },
   "outputs": [
    {
     "name": "stdout",
     "output_type": "stream",
     "text": [
      "Energy consumption data:\n",
      "     period        sales\n",
      "0   2024-01  20040.74935\n",
      "1   2023-12  18660.12634\n",
      "2   2023-11  18479.20564\n",
      "3   2023-10  20390.47299\n",
      "4   2023-09  22466.03859\n",
      "5   2023-08  25101.55563\n",
      "6   2023-07  23048.26218\n",
      "7   2023-06  19333.43379\n",
      "8   2023-05  18288.41200\n",
      "9   2023-04  16261.33366\n",
      "10  2023-03  19506.41869\n",
      "11  2023-02  17440.48579\n",
      "\n",
      "Data types:\n",
      "period               object\n",
      "stateid              object\n",
      "stateDescription     object\n",
      "sectorid             object\n",
      "sectorName           object\n",
      "sales               float64\n",
      "sales-units          object\n",
      "dtype: object\n"
     ]
    }
   ],
   "source": [
    "# Check energy data\n",
    "print(\"Energy consumption data:\")\n",
    "print(energy_df[energy_df['stateid'] == 'CA'][['period', 'sales']].head(12))\n",
    "print(\"\\nData types:\")\n",
    "print(energy_df.dtypes)"
   ]
  },
  {
   "cell_type": "code",
   "execution_count": 53,
   "metadata": {
    "colab": {
     "base_uri": "https://localhost:8080/",
     "height": 0
    },
    "id": "SaU4WNPNrJhw",
    "outputId": "494e04a3-b4f7-4284-c2ef-b4bcdb01e777"
   },
   "outputs": [
    {
     "name": "stdout",
     "output_type": "stream",
     "text": [
      "Final dataset for causal analysis:\n",
      "      month  temperature  energy_demand    emissions\n",
      "0   2023-01     6.022309    20504.70675  3613.333333\n",
      "1   2023-02     5.218220    17440.48579  3613.333333\n",
      "2   2023-03     8.954648    19506.41869  3613.333333\n",
      "3   2023-04    40.973069    16261.33366  3613.333333\n",
      "4   2023-05    59.024418    18288.41200  3613.333333\n",
      "5   2023-06    74.128738    19333.43379  3613.333333\n",
      "6   2023-07   113.862444    23048.26218  3613.333333\n",
      "7   2023-08   103.899591    25101.55563  3613.333333\n",
      "8   2023-09    79.073974    22466.03859  3613.333333\n",
      "9   2023-10    64.043716    20390.47299  3613.333333\n",
      "10  2023-11    35.190453    18479.20564  3613.333333\n",
      "11  2023-12    25.527321    18660.12634  3613.333333\n",
      "\n",
      "Data types:\n",
      "month             object\n",
      "temperature      float64\n",
      "energy_demand    float64\n",
      "emissions        float64\n",
      "dtype: object\n",
      "\n",
      "Correlations:\n",
      "               temperature  energy_demand  emissions\n",
      "temperature       1.000000       0.695788        NaN\n",
      "energy_demand     0.695788       1.000000        NaN\n",
      "emissions              NaN            NaN        NaN\n"
     ]
    }
   ],
   "source": [
    "# only include 2023\n",
    "energy_clean = energy_df[\n",
    "    (energy_df['stateid'] == 'CA') &\n",
    "    (energy_df['period'].str.startswith('2023'))\n",
    "].copy()\n",
    "\n",
    "energy_clean['month'] = pd.to_datetime(energy_clean['period']).dt.strftime('%Y-%m')\n",
    "final_df = pd.merge(monthly_temp, energy_clean[['month', 'sales']], on='month')\n",
    "final_df = final_df.rename(columns={'value': 'temperature', 'sales': 'energy_demand'})\n",
    "\n",
    "final_df['emissions'] = ca_2023_emissions_clean['co2-thousand-metric-tons'].values[0] / 12\n",
    "\n",
    "print(\"Final dataset for causal analysis:\")\n",
    "print(final_df)\n",
    "print(\"\\nData types:\")\n",
    "print(final_df.dtypes)\n",
    "\n",
    "# Basic correlations\n",
    "print(\"\\nCorrelations:\")\n",
    "print(final_df[['temperature', 'energy_demand', 'emissions']].corr())"
   ]
  },
  {
   "cell_type": "code",
   "execution_count": 54,
   "metadata": {
    "colab": {
     "base_uri": "https://localhost:8080/",
     "height": 1018
    },
    "id": "GWIASz3CrOAH",
    "outputId": "f72a1b59-e38c-43cd-9513-e79ae379fdb6"
   },
   "outputs": [
    {
     "name": "stdout",
     "output_type": "stream",
     "text": [
      "First Stage Results (Temperature -> Energy Demand):\n",
      "===============================================================================\n",
      "                  coef    std err          t      P>|t|      [0.025      0.975]\n",
      "-------------------------------------------------------------------------------\n",
      "const        1.753e+04    963.128     18.203      0.000    1.54e+04    1.97e+04\n",
      "temperature    47.2421     15.421      3.063      0.012      12.881      81.603\n",
      "===============================================================================\n"
     ]
    },
    {
     "name": "stderr",
     "output_type": "stream",
     "text": [
      "C:\\Users\\keita\\AppData\\Local\\Packages\\PythonSoftwareFoundation.Python.3.9_qbz5n2kfra8p0\\LocalCache\\local-packages\\Python39\\site-packages\\scipy\\stats\\_axis_nan_policy.py:531: UserWarning: kurtosistest only valid for n>=20 ... continuing anyway, n=12\n",
      "  res = hypotest_fun_out(*samples, **kwds)\n"
     ]
    },
    {
     "data": {
      "image/png": "[encoded data removed]",
      "text/plain": [
       "<Figure size 1000x600 with 1 Axes>"
      ]
     },
     "metadata": {},
     "output_type": "display_data"
    },
    {
     "data": {
      "image/png": "[encoded data removed]",
      "text/plain": [
       "<Figure size 1000x600 with 1 Axes>"
      ]
     },
     "metadata": {},
     "output_type": "display_data"
    }
   ],
   "source": [
    "from statsmodels.stats.outliers_influence import variance_inflation_factor\n",
    "from statsmodels.regression.linear_model import OLS\n",
    "import statsmodels.api as sm\n",
    "\n",
    "X_first = sm.add_constant(final_df['temperature'])\n",
    "first_stage = sm.OLS(final_df['energy_demand'], X_first).fit()\n",
    "\n",
    "energy_demand_predicted = first_stage.predict(X_first)\n",
    "\n",
    "print(\"First Stage Results (Temperature -> Energy Demand):\")\n",
    "print(first_stage.summary().tables[1])\n",
    "\n",
    "import matplotlib.pyplot as plt\n",
    "\n",
    "# Plot actual vs predicted energy demand\n",
    "plt.figure(figsize=(10, 6))\n",
    "plt.scatter(final_df['temperature'], final_df['energy_demand'], alpha=0.5, label='Actual')\n",
    "plt.plot(final_df['temperature'], energy_demand_predicted, color='red', label='Predicted')\n",
    "plt.xlabel('Temperature (Celsius)')\n",
    "plt.ylabel('Energy Demand (million kWh)')\n",
    "plt.title('Temperature vs Energy Demand: First Stage Relationship')\n",
    "plt.legend()\n",
    "plt.show()\n",
    "\n",
    "# Plot residuals\n",
    "residuals = first_stage.resid\n",
    "plt.figure(figsize=(10, 6))\n",
    "plt.scatter(energy_demand_predicted, residuals)\n",
    "plt.axhline(y=0, color='r', linestyle='--')\n",
    "plt.xlabel('Predicted Energy Demand')\n",
    "plt.ylabel('Residuals')\n",
    "plt.title('First Stage Residual Plot')\n",
    "plt.show()"
   ]
  },
  {
   "cell_type": "code",
   "execution_count": 55,
   "metadata": {
    "colab": {
     "base_uri": "https://localhost:8080/",
     "height": 0
    },
    "id": "Fie3o54IrUhW",
    "outputId": "11010113-dfe6-4c13-90b1-5e4c8fcd2175"
   },
   "outputs": [
    {
     "name": "stdout",
     "output_type": "stream",
     "text": [
      "                            OLS Regression Results                            \n",
      "==============================================================================\n",
      "Dep. Variable:              emissions   R-squared:                     -27.667\n",
      "Model:                            OLS   Adj. R-squared:                -30.533\n",
      "Method:                 Least Squares   F-statistic:                    -9.651\n",
      "Date:                Fri, 06 Dec 2024   Prob (F-statistic):               1.00\n",
      "Time:                        17:42:26   Log-Likelihood:                 303.87\n",
      "No. Observations:                  12   AIC:                            -603.7\n",
      "Df Residuals:                      10   BIC:                            -602.8\n",
      "Df Model:                           1                                         \n",
      "Covariance Type:            nonrobust                                         \n",
      "==============================================================================\n",
      "                 coef    std err          t      P>|t|      [0.025      0.975]\n",
      "------------------------------------------------------------------------------\n",
      "const       3613.3333   9.17e-12   3.94e+14      0.000    3613.333    3613.333\n",
      "0          -8.327e-17   4.58e-16     -0.182      0.859    -1.1e-15    9.37e-16\n",
      "==============================================================================\n",
      "Omnibus:                        5.355   Durbin-Watson:                   0.006\n",
      "Prob(Omnibus):                  0.069   Jarque-Bera (JB):                2.125\n",
      "Skew:                          -0.707   Prob(JB):                        0.346\n",
      "Kurtosis:                       1.500   Cond. No.                     2.39e+05\n",
      "==============================================================================\n",
      "\n",
      "Notes:\n",
      "[1] Standard Errors assume that the covariance matrix of the errors is correctly specified.\n",
      "[2] The condition number is large, 2.39e+05. This might indicate that there are\n",
      "strong multicollinearity or other numerical problems.\n"
     ]
    },
    {
     "name": "stderr",
     "output_type": "stream",
     "text": [
      "C:\\Users\\keita\\AppData\\Local\\Packages\\PythonSoftwareFoundation.Python.3.9_qbz5n2kfra8p0\\LocalCache\\local-packages\\Python39\\site-packages\\scipy\\stats\\_axis_nan_policy.py:531: UserWarning: kurtosistest only valid for n>=20 ... continuing anyway, n=12\n",
      "  res = hypotest_fun_out(*samples, **kwds)\n"
     ]
    }
   ],
   "source": [
    "# Second stage regression\n",
    "X_second = sm.add_constant(energy_demand_predicted)\n",
    "second_stage = sm.OLS(final_df['emissions'], X_second).fit()\n",
    "print(second_stage.summary())\n"
   ]
  },
  {
   "cell_type": "markdown",
   "metadata": {
    "id": "iJl_Hxo9snAb"
   },
   "source": [
    "let's try distributing emissions proportionally\n"
   ]
  },
  {
   "cell_type": "code",
   "execution_count": 56,
   "metadata": {
    "colab": {
     "base_uri": "https://localhost:8080/",
     "height": 0
    },
    "id": "C9EnhSUlssPb",
    "outputId": "1e4854b0-0a1b-4ac0-f2cf-82a4eafdc3ac"
   },
   "outputs": [
    {
     "name": "stdout",
     "output_type": "stream",
     "text": [
      "Updated emissions data:\n",
      "      month    emissions\n",
      "0   2023-01  3712.553894\n",
      "1   2023-02  3157.750277\n",
      "2   2023-03  3531.805236\n",
      "3   2023-04  2944.254621\n",
      "4   2023-05  3311.274626\n",
      "5   2023-06  3500.484829\n",
      "6   2023-07  4173.086528\n",
      "7   2023-08  4544.853005\n",
      "8   2023-09  4067.669928\n",
      "9   2023-10  3691.870887\n",
      "10  2023-11  3345.819459\n",
      "11  2023-12  3378.576711\n"
     ]
    }
   ],
   "source": [
    "# Distribute annual emissions based on energy demand\n",
    "total_energy = energy_clean['sales'].sum()  # Total energy demand for 2023\n",
    "final_df['emissions'] = final_df['energy_demand'] / total_energy * ca_2023_emissions_clean['co2-thousand-metric-tons'].values[0]\n",
    "\n",
    "print(\"Updated emissions data:\")\n",
    "print(final_df[['month', 'emissions']])\n"
   ]
  },
  {
   "cell_type": "code",
   "execution_count": 57,
   "metadata": {
    "colab": {
     "base_uri": "https://localhost:8080/",
     "height": 0
    },
    "id": "pkLRl_BCss42",
    "outputId": "71b1885d-4a57-4c7f-cd84-47a5413965a0"
   },
   "outputs": [
    {
     "name": "stdout",
     "output_type": "stream",
     "text": [
      "Second Stage Results (Energy Demand -> Emissions):\n",
      "                            OLS Regression Results                            \n",
      "==============================================================================\n",
      "Dep. Variable:              emissions   R-squared:                       0.681\n",
      "Model:                            OLS   Adj. R-squared:                  0.649\n",
      "Method:                 Least Squares   F-statistic:                     21.35\n",
      "Date:                Fri, 06 Dec 2024   Prob (F-statistic):           0.000949\n",
      "Time:                        17:42:27   Log-Likelihood:                -83.142\n",
      "No. Observations:                  12   AIC:                             170.3\n",
      "Df Residuals:                      10   BIC:                             171.3\n",
      "Df Model:                           1                                         \n",
      "Covariance Type:            nonrobust                                         \n",
      "==================================================================================================\n",
      "                                     coef    std err          t      P>|t|      [0.025      0.975]\n",
      "--------------------------------------------------------------------------------------------------\n",
      "const                           3.465e-10    785.856   4.41e-13      1.000   -1750.995    1750.995\n",
      "energy_demand_predicted_square     0.1811      0.039      4.621      0.001       0.094       0.268\n",
      "==============================================================================\n",
      "Omnibus:                        2.102   Durbin-Watson:                   1.789\n",
      "Prob(Omnibus):                  0.350   Jarque-Bera (JB):                0.926\n",
      "Skew:                          -0.147   Prob(JB):                        0.629\n",
      "Kurtosis:                       1.672   Cond. No.                     2.02e+05\n",
      "==============================================================================\n",
      "\n",
      "Notes:\n",
      "[1] Standard Errors assume that the covariance matrix of the errors is correctly specified.\n",
      "[2] The condition number is large, 2.02e+05. This might indicate that there are\n",
      "strong multicollinearity or other numerical problems.\n"
     ]
    },
    {
     "name": "stderr",
     "output_type": "stream",
     "text": [
      "C:\\Users\\keita\\AppData\\Local\\Packages\\PythonSoftwareFoundation.Python.3.9_qbz5n2kfra8p0\\LocalCache\\local-packages\\Python39\\site-packages\\scipy\\stats\\_axis_nan_policy.py:531: UserWarning: kurtosistest only valid for n>=20 ... continuing anyway, n=12\n",
      "  res = hypotest_fun_out(*samples, **kwds)\n"
     ]
    }
   ],
   "source": [
    "# Add squared temperature term for non-linear effects\n",
    "final_df['temperature_squared'] = final_df['temperature'] ** (2)\n",
    "\n",
    "# First-stage regression (include non-linear term)\n",
    "X_first = sm.add_constant(final_df[['temperature', 'temperature_squared']])\n",
    "first_stage_square = sm.OLS(final_df['energy_demand'], X_first).fit()\n",
    "\n",
    "# Predict energy demand\n",
    "final_df['energy_demand_predicted_square'] = first_stage_square.predict(X_first)\n",
    "\n",
    "# Second-stage regression\n",
    "X_second = sm.add_constant(final_df['energy_demand_predicted_square'])\n",
    "second_stage = sm.OLS(final_df['emissions'], X_second).fit()\n",
    "\n",
    "# Print results\n",
    "print(\"Second Stage Results (Energy Demand -> Emissions):\")\n",
    "print(second_stage.summary())\n"
   ]
  },
  {
   "cell_type": "code",
   "execution_count": 58,
   "metadata": {},
   "outputs": [
    {
     "name": "stdout",
     "output_type": "stream",
     "text": [
      "Second Stage Results (Energy Demand -> Emissions):\n",
      "                            OLS Regression Results                            \n",
      "==============================================================================\n",
      "Dep. Variable:              emissions   R-squared:                       0.681\n",
      "Model:                            OLS   Adj. R-squared:                  0.649\n",
      "Method:                 Least Squares   F-statistic:                     21.35\n",
      "Date:                Fri, 06 Dec 2024   Prob (F-statistic):           0.000949\n",
      "Time:                        17:42:28   Log-Likelihood:                -83.142\n",
      "No. Observations:                  12   AIC:                             170.3\n",
      "Df Residuals:                      10   BIC:                             171.3\n",
      "Df Model:                           1                                         \n",
      "Covariance Type:            nonrobust                                         \n",
      "================================================================================================\n",
      "                                   coef    std err          t      P>|t|      [0.025      0.975]\n",
      "------------------------------------------------------------------------------------------------\n",
      "const                         3.465e-10    785.856   4.41e-13      1.000   -1750.995    1750.995\n",
      "energy_demand_predicted_sqrt     0.1811      0.039      4.621      0.001       0.094       0.268\n",
      "==============================================================================\n",
      "Omnibus:                        2.102   Durbin-Watson:                   1.789\n",
      "Prob(Omnibus):                  0.350   Jarque-Bera (JB):                0.926\n",
      "Skew:                          -0.147   Prob(JB):                        0.629\n",
      "Kurtosis:                       1.672   Cond. No.                     2.02e+05\n",
      "==============================================================================\n",
      "\n",
      "Notes:\n",
      "[1] Standard Errors assume that the covariance matrix of the errors is correctly specified.\n",
      "[2] The condition number is large, 2.02e+05. This might indicate that there are\n",
      "strong multicollinearity or other numerical problems.\n"
     ]
    },
    {
     "name": "stderr",
     "output_type": "stream",
     "text": [
      "C:\\Users\\keita\\AppData\\Local\\Packages\\PythonSoftwareFoundation.Python.3.9_qbz5n2kfra8p0\\LocalCache\\local-packages\\Python39\\site-packages\\scipy\\stats\\_axis_nan_policy.py:531: UserWarning: kurtosistest only valid for n>=20 ... continuing anyway, n=12\n",
      "  res = hypotest_fun_out(*samples, **kwds)\n"
     ]
    }
   ],
   "source": [
    "# Add squared temperature term for non-linear effects\n",
    "final_df['temperature_sqrt'] = final_df['temperature'] ** (1/2)\n",
    "\n",
    "# First-stage regression (include non-linear term)\n",
    "X_first = sm.add_constant(final_df[['temperature', 'temperature_squared']])\n",
    "first_stage_sqrt = sm.OLS(final_df['energy_demand'], X_first).fit()\n",
    "\n",
    "# Predict energy demand\n",
    "final_df['energy_demand_predicted_sqrt'] = first_stage_sqrt.predict(X_first)\n",
    "\n",
    "# Second-stage regression\n",
    "X_second = sm.add_constant(final_df['energy_demand_predicted_sqrt'])\n",
    "second_stage = sm.OLS(final_df['emissions'], X_second).fit()\n",
    "\n",
    "# Print results\n",
    "print(\"Second Stage Results (Energy Demand -> Emissions):\")\n",
    "print(second_stage.summary())"
   ]
  },
  {
   "cell_type": "code",
   "execution_count": 59,
   "metadata": {},
   "outputs": [
    {
     "ename": "ValueError",
     "evalue": "shapes (12,3) and (2,) not aligned: 3 (dim 1) != 2 (dim 0)",
     "output_type": "error",
     "traceback": [
      "\u001b[1;31m---------------------------------------------------------------------------\u001b[0m",
      "\u001b[1;31mValueError\u001b[0m                                Traceback (most recent call last)",
      "Cell \u001b[1;32mIn[59], line 9\u001b[0m\n\u001b[0;32m      6\u001b[0m first_stage_exp \u001b[38;5;241m=\u001b[39m sm\u001b[38;5;241m.\u001b[39mOLS(final_df[\u001b[38;5;124m'\u001b[39m\u001b[38;5;124menergy_demand\u001b[39m\u001b[38;5;124m'\u001b[39m], X_first)\u001b[38;5;241m.\u001b[39mfit()\n\u001b[0;32m      8\u001b[0m \u001b[38;5;66;03m# Predict energy demand\u001b[39;00m\n\u001b[1;32m----> 9\u001b[0m final_df[\u001b[38;5;124m'\u001b[39m\u001b[38;5;124menergy_demand_predicted_exp\u001b[39m\u001b[38;5;124m'\u001b[39m] \u001b[38;5;241m=\u001b[39m \u001b[43mfirst_stage\u001b[49m\u001b[38;5;241;43m.\u001b[39;49m\u001b[43mpredict\u001b[49m\u001b[43m(\u001b[49m\u001b[43mX_first\u001b[49m\u001b[43m)\u001b[49m\n\u001b[0;32m     11\u001b[0m \u001b[38;5;66;03m# Second-stage regression\u001b[39;00m\n\u001b[0;32m     12\u001b[0m X_second \u001b[38;5;241m=\u001b[39m sm\u001b[38;5;241m.\u001b[39madd_constant(final_df[\u001b[38;5;124m'\u001b[39m\u001b[38;5;124menergy_demand_predicted_exp\u001b[39m\u001b[38;5;124m'\u001b[39m])\n",
      "File \u001b[1;32m~\\AppData\\Local\\Packages\\PythonSoftwareFoundation.Python.3.9_qbz5n2kfra8p0\\LocalCache\\local-packages\\Python39\\site-packages\\statsmodels\\base\\model.py:1174\u001b[0m, in \u001b[0;36mResults.predict\u001b[1;34m(self, exog, transform, *args, **kwargs)\u001b[0m\n\u001b[0;32m   1127\u001b[0m \u001b[38;5;250m\u001b[39m\u001b[38;5;124;03m\"\"\"\u001b[39;00m\n\u001b[0;32m   1128\u001b[0m \u001b[38;5;124;03mCall self.model.predict with self.params as the first argument.\u001b[39;00m\n\u001b[0;32m   1129\u001b[0m \n\u001b[1;32m   (...)\u001b[0m\n\u001b[0;32m   1169\u001b[0m \u001b[38;5;124;03mreturned prediction.\u001b[39;00m\n\u001b[0;32m   1170\u001b[0m \u001b[38;5;124;03m\"\"\"\u001b[39;00m\n\u001b[0;32m   1171\u001b[0m exog, exog_index \u001b[38;5;241m=\u001b[39m \u001b[38;5;28mself\u001b[39m\u001b[38;5;241m.\u001b[39m_transform_predict_exog(exog,\n\u001b[0;32m   1172\u001b[0m                                                 transform\u001b[38;5;241m=\u001b[39mtransform)\n\u001b[1;32m-> 1174\u001b[0m predict_results \u001b[38;5;241m=\u001b[39m \u001b[38;5;28mself\u001b[39m\u001b[38;5;241m.\u001b[39mmodel\u001b[38;5;241m.\u001b[39mpredict(\u001b[38;5;28mself\u001b[39m\u001b[38;5;241m.\u001b[39mparams, exog, \u001b[38;5;241m*\u001b[39margs,\n\u001b[0;32m   1175\u001b[0m                                      \u001b[38;5;241m*\u001b[39m\u001b[38;5;241m*\u001b[39mkwargs)\n\u001b[0;32m   1177\u001b[0m \u001b[38;5;28;01mif\u001b[39;00m exog_index \u001b[38;5;129;01mis\u001b[39;00m \u001b[38;5;129;01mnot\u001b[39;00m \u001b[38;5;28;01mNone\u001b[39;00m \u001b[38;5;129;01mand\u001b[39;00m \u001b[38;5;129;01mnot\u001b[39;00m \u001b[38;5;28mhasattr\u001b[39m(predict_results,\n\u001b[0;32m   1178\u001b[0m                                           \u001b[38;5;124m'\u001b[39m\u001b[38;5;124mpredicted_values\u001b[39m\u001b[38;5;124m'\u001b[39m):\n\u001b[0;32m   1179\u001b[0m     \u001b[38;5;28;01mif\u001b[39;00m predict_results\u001b[38;5;241m.\u001b[39mndim \u001b[38;5;241m==\u001b[39m \u001b[38;5;241m1\u001b[39m:\n",
      "File \u001b[1;32m~\\AppData\\Local\\Packages\\PythonSoftwareFoundation.Python.3.9_qbz5n2kfra8p0\\LocalCache\\local-packages\\Python39\\site-packages\\statsmodels\\regression\\linear_model.py:409\u001b[0m, in \u001b[0;36mRegressionModel.predict\u001b[1;34m(self, params, exog)\u001b[0m\n\u001b[0;32m    406\u001b[0m \u001b[38;5;28;01mif\u001b[39;00m exog \u001b[38;5;129;01mis\u001b[39;00m \u001b[38;5;28;01mNone\u001b[39;00m:\n\u001b[0;32m    407\u001b[0m     exog \u001b[38;5;241m=\u001b[39m \u001b[38;5;28mself\u001b[39m\u001b[38;5;241m.\u001b[39mexog\n\u001b[1;32m--> 409\u001b[0m \u001b[38;5;28;01mreturn\u001b[39;00m \u001b[43mnp\u001b[49m\u001b[38;5;241;43m.\u001b[39;49m\u001b[43mdot\u001b[49m\u001b[43m(\u001b[49m\u001b[43mexog\u001b[49m\u001b[43m,\u001b[49m\u001b[43m \u001b[49m\u001b[43mparams\u001b[49m\u001b[43m)\u001b[49m\n",
      "\u001b[1;31mValueError\u001b[0m: shapes (12,3) and (2,) not aligned: 3 (dim 1) != 2 (dim 0)"
     ]
    }
   ],
   "source": [
    "# Add squared temperature term for non-linear effects\n",
    "final_df['temperature_exp'] = np.exp(final_df['temperature']) \n",
    "\n",
    "# First-stage regression (include non-linear term)\n",
    "X_first = sm.add_constant(final_df[['temperature', 'temperature_squared']])\n",
    "first_stage_exp = sm.OLS(final_df['energy_demand'], X_first).fit()\n",
    "\n",
    "# Predict energy demand\n",
    "final_df['energy_demand_predicted_exp'] = first_stage.predict(X_first)\n",
    "\n",
    "# Second-stage regression\n",
    "X_second = sm.add_constant(final_df['energy_demand_predicted_exp'])\n",
    "second_stage = sm.OLS(final_df['emissions'], X_second).fit()\n",
    "\n",
    "# Print results\n",
    "print(\"Second Stage Results (Energy Demand -> Emissions):\")\n",
    "print(second_stage.summary())"
   ]
  },
  {
   "cell_type": "code",
   "execution_count": 60,
   "metadata": {},
   "outputs": [
    {
     "name": "stdout",
     "output_type": "stream",
     "text": [
      "Second Stage Results (Energy Demand -> Emissions):\n",
      "                            OLS Regression Results                            \n",
      "==============================================================================\n",
      "Dep. Variable:              emissions   R-squared:                       0.681\n",
      "Model:                            OLS   Adj. R-squared:                  0.649\n",
      "Method:                 Least Squares   F-statistic:                     21.35\n",
      "Date:                Fri, 06 Dec 2024   Prob (F-statistic):           0.000949\n",
      "Time:                        17:42:32   Log-Likelihood:                -83.142\n",
      "No. Observations:                  12   AIC:                             170.3\n",
      "Df Residuals:                      10   BIC:                             171.3\n",
      "Df Model:                           1                                         \n",
      "Covariance Type:            nonrobust                                         \n",
      "===============================================================================================\n",
      "                                  coef    std err          t      P>|t|      [0.025      0.975]\n",
      "-----------------------------------------------------------------------------------------------\n",
      "const                        3.465e-10    785.856   4.41e-13      1.000   -1750.995    1750.995\n",
      "energy_demand_predicted_log     0.1811      0.039      4.621      0.001       0.094       0.268\n",
      "==============================================================================\n",
      "Omnibus:                        2.102   Durbin-Watson:                   1.789\n",
      "Prob(Omnibus):                  0.350   Jarque-Bera (JB):                0.926\n",
      "Skew:                          -0.147   Prob(JB):                        0.629\n",
      "Kurtosis:                       1.672   Cond. No.                     2.02e+05\n",
      "==============================================================================\n",
      "\n",
      "Notes:\n",
      "[1] Standard Errors assume that the covariance matrix of the errors is correctly specified.\n",
      "[2] The condition number is large, 2.02e+05. This might indicate that there are\n",
      "strong multicollinearity or other numerical problems.\n"
     ]
    },
    {
     "name": "stderr",
     "output_type": "stream",
     "text": [
      "C:\\Users\\keita\\AppData\\Local\\Packages\\PythonSoftwareFoundation.Python.3.9_qbz5n2kfra8p0\\LocalCache\\local-packages\\Python39\\site-packages\\scipy\\stats\\_axis_nan_policy.py:531: UserWarning: kurtosistest only valid for n>=20 ... continuing anyway, n=12\n",
      "  res = hypotest_fun_out(*samples, **kwds)\n"
     ]
    }
   ],
   "source": [
    "# Add squared temperature term for non-linear effects\n",
    "final_df['temperature_log'] = np.log(final_df['temperature'])\n",
    "\n",
    "# First-stage regression (include non-linear term)\n",
    "X_first = sm.add_constant(final_df[['temperature', 'temperature_squared']])\n",
    "first_stage_log = sm.OLS(final_df['energy_demand'], X_first).fit()\n",
    "\n",
    "# Predict energy demand\n",
    "final_df['energy_demand_predicted_log'] = first_stage_log.predict(X_first)\n",
    "\n",
    "# Second-stage regression\n",
    "X_second = sm.add_constant(final_df['energy_demand_predicted_log'])\n",
    "second_stage = sm.OLS(final_df['emissions'], X_second).fit()\n",
    "\n",
    "# Print results\n",
    "print(\"Second Stage Results (Energy Demand -> Emissions):\")\n",
    "print(second_stage.summary())"
   ]
  },
  {
   "cell_type": "code",
   "execution_count": 61,
   "metadata": {},
   "outputs": [
    {
     "name": "stdout",
     "output_type": "stream",
     "text": [
      "Second Stage Results (Energy Demand -> Emissions):\n",
      "                            OLS Regression Results                            \n",
      "==============================================================================\n",
      "Dep. Variable:              emissions   R-squared:                       0.681\n",
      "Model:                            OLS   Adj. R-squared:                  0.649\n",
      "Method:                 Least Squares   F-statistic:                     21.35\n",
      "Date:                Fri, 06 Dec 2024   Prob (F-statistic):           0.000949\n",
      "Time:                        17:42:32   Log-Likelihood:                -83.142\n",
      "No. Observations:                  12   AIC:                             170.3\n",
      "Df Residuals:                      10   BIC:                             171.3\n",
      "Df Model:                           1                                         \n",
      "Covariance Type:            nonrobust                                         \n",
      "===============================================================================================\n",
      "                                  coef    std err          t      P>|t|      [0.025      0.975]\n",
      "-----------------------------------------------------------------------------------------------\n",
      "const                        3.465e-10    785.856   4.41e-13      1.000   -1750.995    1750.995\n",
      "energy_demand_predicted_log     0.1811      0.039      4.621      0.001       0.094       0.268\n",
      "==============================================================================\n",
      "Omnibus:                        2.102   Durbin-Watson:                   1.789\n",
      "Prob(Omnibus):                  0.350   Jarque-Bera (JB):                0.926\n",
      "Skew:                          -0.147   Prob(JB):                        0.629\n",
      "Kurtosis:                       1.672   Cond. No.                     2.02e+05\n",
      "==============================================================================\n",
      "\n",
      "Notes:\n",
      "[1] Standard Errors assume that the covariance matrix of the errors is correctly specified.\n",
      "[2] The condition number is large, 2.02e+05. This might indicate that there are\n",
      "strong multicollinearity or other numerical problems.\n"
     ]
    },
    {
     "name": "stderr",
     "output_type": "stream",
     "text": [
      "C:\\Users\\keita\\AppData\\Local\\Packages\\PythonSoftwareFoundation.Python.3.9_qbz5n2kfra8p0\\LocalCache\\local-packages\\Python39\\site-packages\\scipy\\stats\\_axis_nan_policy.py:531: UserWarning: kurtosistest only valid for n>=20 ... continuing anyway, n=12\n",
      "  res = hypotest_fun_out(*samples, **kwds)\n"
     ]
    }
   ],
   "source": [
    "\n",
    "# First-stage regression (include non-linear term)\n",
    "first_stage= sm.OLS(final_df['energy_demand'], X_first).fit()\n",
    "\n",
    "# Predict energy demand\n",
    "final_df['energy_demand_predicted'] = first_stage.predict(X_first)\n",
    "\n",
    "# Second-stage regression\n",
    "X_second = sm.add_constant(final_df['energy_demand_predicted_log'])\n",
    "second_stage = sm.OLS(final_df['emissions'], X_second).fit()\n",
    "\n",
    "# Print results\n",
    "print(\"Second Stage Results (Energy Demand -> Emissions):\")\n",
    "print(second_stage.summary())"
   ]
  },
  {
   "cell_type": "code",
   "execution_count": 62,
   "metadata": {
    "colab": {
     "base_uri": "https://localhost:8080/",
     "height": 489
    },
    "id": "g1xeofj_su4M",
    "outputId": "e8705aad-9837-4622-cb6d-a3b0200bfcc0"
   },
   "outputs": [
    {
     "data": {
      "image/png": "[encoded data removed]",
      "text/plain": [
       "<Figure size 640x480 with 1 Axes>"
      ]
     },
     "metadata": {},
     "output_type": "display_data"
    },
    {
     "name": "stdout",
     "output_type": "stream",
     "text": [
      "Breusch-Pagan Test Results: (1.872583007901548, 0.171179537392523, 1.8490233090654429, 0.20376457780514887)\n"
     ]
    }
   ],
   "source": [
    "# Residuals of second stage\n",
    "residuals = second_stage.resid\n",
    "\n",
    "# Residual plot\n",
    "plt.scatter(final_df['energy_demand_predicted'], residuals, alpha=0.5)\n",
    "plt.axhline(0, color='red', linestyle='--')\n",
    "plt.xlabel('Predicted Energy Demand')\n",
    "plt.ylabel('Residuals')\n",
    "plt.title('Residual Plot: Energy Demand -> Emissions')\n",
    "plt.show()\n",
    "\n",
    "# Breusch-Pagan test\n",
    "from statsmodels.stats.diagnostic import het_breuschpagan\n",
    "bp_test = het_breuschpagan(residuals, X_second)\n",
    "print(\"Breusch-Pagan Test Results:\", bp_test)\n"
   ]
  },
  {
   "cell_type": "code",
   "execution_count": 63,
   "metadata": {
    "id": "zHB0GQg0s0aB"
   },
   "outputs": [
    {
     "data": {
      "text/plain": [
       "<Figure size 1000x600 with 0 Axes>"
      ]
     },
     "metadata": {},
     "output_type": "display_data"
    },
    {
     "data": {
      "image/png": "[encoded data removed]",
      "text/plain": [
       "<Figure size 640x480 with 1 Axes>"
      ]
     },
     "metadata": {},
     "output_type": "display_data"
    }
   ],
   "source": [
    "# Plot actual vs predicted energy demand\n",
    "plt.figure(figsize=(10, 6))\n",
    "fig, ax = plt.subplots()\n",
    "ax.scatter(final_df['temperature'], final_df['energy_demand'], alpha=0.5, label='Actual')\n",
    "ax.plot(final_df['temperature'], final_df['energy_demand_predicted_log'], color='red', label='Predicted_log')\n",
    "ax.plot(final_df['temperature'], final_df['energy_demand_predicted_square'], color='green', label='Predicted_square')\n",
    "ax.plot(final_df['temperature'], final_df['energy_demand_predicted_sqrt'], color='orange', label='Predicted_sqrt')\n",
    "ax.plot(final_df['temperature'], final_df['energy_demand_predicted'], color='black', label='Predicted')\n",
    "plt.xlabel('Temperature (Celsius)')\n",
    "plt.ylabel('Energy Demand (million kWh)')\n",
    "plt.title('Temperature vs Energy Demand: First Stage Relationship')\n",
    "plt.legend()\n",
    "plt.show()"
   ]
  },
  {
   "cell_type": "code",
   "execution_count": 44,
   "metadata": {},
   "outputs": [
    {
     "data": {
      "text/html": [
       "<div>\n",
       "<style scoped>\n",
       "    .dataframe tbody tr th:only-of-type {\n",
       "        vertical-align: middle;\n",
       "    }\n",
       "\n",
       "    .dataframe tbody tr th {\n",
       "        vertical-align: top;\n",
       "    }\n",
       "\n",
       "    .dataframe thead th {\n",
       "        text-align: right;\n",
       "    }\n",
       "</style>\n",
       "<table border=\"1\" class=\"dataframe\">\n",
       "  <thead>\n",
       "    <tr style=\"text-align: right;\">\n",
       "      <th></th>\n",
       "      <th>month</th>\n",
       "      <th>temperature</th>\n",
       "      <th>energy_demand</th>\n",
       "      <th>emissions</th>\n",
       "      <th>temperature_squared</th>\n",
       "      <th>energy_demand_predicted</th>\n",
       "      <th>temperature_log</th>\n",
       "      <th>energy_demand_predicted_square</th>\n",
       "      <th>temperature_sqrt</th>\n",
       "      <th>energy_demand_predicted_sqrt</th>\n",
       "      <th>temperature_exp</th>\n",
       "      <th>energy_demand_predicted_log</th>\n",
       "    </tr>\n",
       "  </thead>\n",
       "  <tbody>\n",
       "    <tr>\n",
       "      <th>0</th>\n",
       "      <td>2023-01</td>\n",
       "      <td>6.022309</td>\n",
       "      <td>20504.70675</td>\n",
       "      <td>3712.553894</td>\n",
       "      <td>36.268206</td>\n",
       "      <td>18928.381172</td>\n",
       "      <td>1.795471</td>\n",
       "      <td>18928.381172</td>\n",
       "      <td>2.454039</td>\n",
       "      <td>18928.381172</td>\n",
       "      <td>4.125300e+02</td>\n",
       "      <td>18928.381172</td>\n",
       "    </tr>\n",
       "    <tr>\n",
       "      <th>1</th>\n",
       "      <td>2023-02</td>\n",
       "      <td>5.218220</td>\n",
       "      <td>17440.48579</td>\n",
       "      <td>3157.750277</td>\n",
       "      <td>27.229819</td>\n",
       "      <td>18965.672646</td>\n",
       "      <td>1.652156</td>\n",
       "      <td>18965.672646</td>\n",
       "      <td>2.284342</td>\n",
       "      <td>18965.672646</td>\n",
       "      <td>1.846053e+02</td>\n",
       "      <td>18965.672646</td>\n",
       "    </tr>\n",
       "    <tr>\n",
       "      <th>2</th>\n",
       "      <td>2023-03</td>\n",
       "      <td>8.954648</td>\n",
       "      <td>19506.41869</td>\n",
       "      <td>3531.805236</td>\n",
       "      <td>80.185720</td>\n",
       "      <td>18802.607157</td>\n",
       "      <td>2.192173</td>\n",
       "      <td>18802.607157</td>\n",
       "      <td>2.992432</td>\n",
       "      <td>18802.607157</td>\n",
       "      <td>7.743801e+03</td>\n",
       "      <td>18802.607157</td>\n",
       "    </tr>\n",
       "    <tr>\n",
       "      <th>3</th>\n",
       "      <td>2023-04</td>\n",
       "      <td>40.973069</td>\n",
       "      <td>16261.33366</td>\n",
       "      <td>2944.254621</td>\n",
       "      <td>1678.792420</td>\n",
       "      <td>18473.110899</td>\n",
       "      <td>3.712915</td>\n",
       "      <td>18473.110899</td>\n",
       "      <td>6.401021</td>\n",
       "      <td>18473.110899</td>\n",
       "      <td>6.228421e+17</td>\n",
       "      <td>18473.110899</td>\n",
       "    </tr>\n",
       "    <tr>\n",
       "      <th>4</th>\n",
       "      <td>2023-05</td>\n",
       "      <td>59.024418</td>\n",
       "      <td>18288.41200</td>\n",
       "      <td>3311.274626</td>\n",
       "      <td>3483.881869</td>\n",
       "      <td>19130.414966</td>\n",
       "      <td>4.077951</td>\n",
       "      <td>19130.414966</td>\n",
       "      <td>7.682735</td>\n",
       "      <td>19130.414966</td>\n",
       "      <td>4.305056e+25</td>\n",
       "      <td>19130.414966</td>\n",
       "    </tr>\n",
       "  </tbody>\n",
       "</table>\n",
       "</div>"
      ],
      "text/plain": [
       "     month  temperature  energy_demand    emissions  temperature_squared  \\\n",
       "0  2023-01     6.022309    20504.70675  3712.553894            36.268206   \n",
       "1  2023-02     5.218220    17440.48579  3157.750277            27.229819   \n",
       "2  2023-03     8.954648    19506.41869  3531.805236            80.185720   \n",
       "3  2023-04    40.973069    16261.33366  2944.254621          1678.792420   \n",
       "4  2023-05    59.024418    18288.41200  3311.274626          3483.881869   \n",
       "\n",
       "   energy_demand_predicted  temperature_log  energy_demand_predicted_square  \\\n",
       "0             18928.381172         1.795471                    18928.381172   \n",
       "1             18965.672646         1.652156                    18965.672646   \n",
       "2             18802.607157         2.192173                    18802.607157   \n",
       "3             18473.110899         3.712915                    18473.110899   \n",
       "4             19130.414966         4.077951                    19130.414966   \n",
       "\n",
       "   temperature_sqrt  energy_demand_predicted_sqrt  temperature_exp  \\\n",
       "0          2.454039                  18928.381172     4.125300e+02   \n",
       "1          2.284342                  18965.672646     1.846053e+02   \n",
       "2          2.992432                  18802.607157     7.743801e+03   \n",
       "3          6.401021                  18473.110899     6.228421e+17   \n",
       "4          7.682735                  19130.414966     4.305056e+25   \n",
       "\n",
       "   energy_demand_predicted_log  \n",
       "0                 18928.381172  \n",
       "1                 18965.672646  \n",
       "2                 18802.607157  \n",
       "3                 18473.110899  \n",
       "4                 19130.414966  "
      ]
     },
     "execution_count": 44,
     "metadata": {},
     "output_type": "execute_result"
    }
   ],
   "source": [
    "final_df.head()"
   ]
  },
  {
   "cell_type": "markdown",
   "metadata": {},
   "source": [
    "As we can see with the various models, there seems to be a relationship between the square root of the energy demand and the temperature. In comparison to the other models, we can see that this one perfoms at a better level from the higher AIC and BIC numbers, as well as a slightly higher log-likelihood."
   ]
  },
  {
   "cell_type": "markdown",
   "metadata": {},
   "source": [
    "There are limitations in our method, as we are extrapolating the emissions based on demand over the whole year. This does not take into account the possibility of energy prodution efficiency being different across different months (ie some months having a higher proportion created by renewable energy), and it does not fully dicount the confounder of seasonal changes in temperature. In addition, we have not taken into account the vast space and spread out nature of California, and the nonuniform nature of emissions across the state."
   ]
  },
  {
   "cell_type": "code",
   "execution_count": null,
   "metadata": {},
   "outputs": [],
   "source": []
  }
 ],
 "metadata": {
  "colab": {
   "authorship_tag": "ABX9TyPrI1IxkgB11nXaHCzhGT8x",
   "include_colab_link": true,
   "provenance": []
  },
  "kernelspec": {
   "display_name": "Python 3",
   "language": "python",
   "name": "python3"
  },
  "language_info": {
   "codemirror_mode": {
    "name": "ipython",
    "version": 3
   },
   "file_extension": ".py",
   "mimetype": "text/x-python",
   "name": "python",
   "nbconvert_exporter": "python",
   "pygments_lexer": "ipython3",
   "version": "3.9.13"
  }
 },
 "nbformat": 4,
 "nbformat_minor": 0
}
