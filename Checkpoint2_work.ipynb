{
 "cells": [
  {
   "cell_type": "markdown",
   "metadata": {
    "colab_type": "text",
    "id": "view-in-github"
   },
   "source": [
    "<a href=\"https://colab.research.google.com/github/nlemoff/data102project/blob/main/Checkpoint2_work.ipynb\" target=\"_parent\"><img src=\"https://colab.research.google.com/assets/colab-badge.svg\" alt=\"Open In Colab\"/></a>"
   ]
  },
  {
   "cell_type": "code",
   "execution_count": 34,
   "metadata": {
    "id": "U5ebu7eEjxuH"
   },
   "outputs": [],
   "source": [
    "import pandas as pd\n",
    "import numpy as np\n",
    "\n",
    "emissions_df = pd.read_csv('state_emissions.csv')\n",
    "energy_df = pd.read_csv('state_wise_energy_all_sectors.csv')\n",
    "temperature_df = pd.read_csv('temperature_data_2023.csv')"
   ]
  },
  {
   "cell_type": "code",
   "execution_count": 35,
   "metadata": {},
   "outputs": [
    {
     "data": {
      "text/html": [
       "<div>\n",
       "<style scoped>\n",
       "    .dataframe tbody tr th:only-of-type {\n",
       "        vertical-align: middle;\n",
       "    }\n",
       "\n",
       "    .dataframe tbody tr th {\n",
       "        vertical-align: top;\n",
       "    }\n",
       "\n",
       "    .dataframe thead th {\n",
       "        text-align: right;\n",
       "    }\n",
       "</style>\n",
       "<table border=\"1\" class=\"dataframe\">\n",
       "  <thead>\n",
       "    <tr style=\"text-align: right;\">\n",
       "      <th></th>\n",
       "      <th>period</th>\n",
       "      <th>stateid</th>\n",
       "      <th>stateDescription</th>\n",
       "      <th>fuelid</th>\n",
       "      <th>fuelDescription</th>\n",
       "      <th>co2-rate-lbs-mwh</th>\n",
       "      <th>co2-thousand-metric-tons</th>\n",
       "      <th>nox-rate-lbs-mwh</th>\n",
       "      <th>nox-short-tons</th>\n",
       "      <th>so2-rate-lbs-mwh</th>\n",
       "      <th>so2-short-tons</th>\n",
       "      <th>co2-rate-lbs-mwh-units</th>\n",
       "      <th>co2-thousand-metric-tons-units</th>\n",
       "      <th>nox-rate-lbs-mwh-units</th>\n",
       "      <th>nox-short-tons-units</th>\n",
       "      <th>so2-rate-lbs-mwh-units</th>\n",
       "      <th>so2-short-tons-units</th>\n",
       "    </tr>\n",
       "  </thead>\n",
       "  <tbody>\n",
       "    <tr>\n",
       "      <th>0</th>\n",
       "      <td>2023</td>\n",
       "      <td>AZ</td>\n",
       "      <td>Arizona</td>\n",
       "      <td>COL</td>\n",
       "      <td>Coal</td>\n",
       "      <td>NaN</td>\n",
       "      <td>12863</td>\n",
       "      <td>NaN</td>\n",
       "      <td>9238</td>\n",
       "      <td>NaN</td>\n",
       "      <td>6854</td>\n",
       "      <td>pounds per megawatthour</td>\n",
       "      <td>thousand metric tons</td>\n",
       "      <td>pounds per megawatthour</td>\n",
       "      <td>short tons</td>\n",
       "      <td>pounds per megawatthour</td>\n",
       "      <td>short tons</td>\n",
       "    </tr>\n",
       "    <tr>\n",
       "      <th>1</th>\n",
       "      <td>2023</td>\n",
       "      <td>WY</td>\n",
       "      <td>Wyoming</td>\n",
       "      <td>ALL</td>\n",
       "      <td>Total</td>\n",
       "      <td>1864.0</td>\n",
       "      <td>36580</td>\n",
       "      <td>1.4</td>\n",
       "      <td>31178</td>\n",
       "      <td>1.1</td>\n",
       "      <td>24209</td>\n",
       "      <td>pounds per megawatthour</td>\n",
       "      <td>thousand metric tons</td>\n",
       "      <td>pounds per megawatthour</td>\n",
       "      <td>short tons</td>\n",
       "      <td>pounds per megawatthour</td>\n",
       "      <td>short tons</td>\n",
       "    </tr>\n",
       "    <tr>\n",
       "      <th>2</th>\n",
       "      <td>2023</td>\n",
       "      <td>WY</td>\n",
       "      <td>Wyoming</td>\n",
       "      <td>PET</td>\n",
       "      <td>Petroleum</td>\n",
       "      <td>NaN</td>\n",
       "      <td>37</td>\n",
       "      <td>NaN</td>\n",
       "      <td>22</td>\n",
       "      <td>NaN</td>\n",
       "      <td>13</td>\n",
       "      <td>pounds per megawatthour</td>\n",
       "      <td>thousand metric tons</td>\n",
       "      <td>pounds per megawatthour</td>\n",
       "      <td>short tons</td>\n",
       "      <td>pounds per megawatthour</td>\n",
       "      <td>short tons</td>\n",
       "    </tr>\n",
       "    <tr>\n",
       "      <th>3</th>\n",
       "      <td>2023</td>\n",
       "      <td>WY</td>\n",
       "      <td>Wyoming</td>\n",
       "      <td>OTH</td>\n",
       "      <td>Other</td>\n",
       "      <td>NaN</td>\n",
       "      <td>0</td>\n",
       "      <td>NaN</td>\n",
       "      <td>3436</td>\n",
       "      <td>NaN</td>\n",
       "      <td>8</td>\n",
       "      <td>pounds per megawatthour</td>\n",
       "      <td>thousand metric tons</td>\n",
       "      <td>pounds per megawatthour</td>\n",
       "      <td>short tons</td>\n",
       "      <td>pounds per megawatthour</td>\n",
       "      <td>short tons</td>\n",
       "    </tr>\n",
       "    <tr>\n",
       "      <th>4</th>\n",
       "      <td>2023</td>\n",
       "      <td>WY</td>\n",
       "      <td>Wyoming</td>\n",
       "      <td>NG</td>\n",
       "      <td>Natural Gas</td>\n",
       "      <td>NaN</td>\n",
       "      <td>1516</td>\n",
       "      <td>NaN</td>\n",
       "      <td>2489</td>\n",
       "      <td>NaN</td>\n",
       "      <td>9</td>\n",
       "      <td>pounds per megawatthour</td>\n",
       "      <td>thousand metric tons</td>\n",
       "      <td>pounds per megawatthour</td>\n",
       "      <td>short tons</td>\n",
       "      <td>pounds per megawatthour</td>\n",
       "      <td>short tons</td>\n",
       "    </tr>\n",
       "  </tbody>\n",
       "</table>\n",
       "</div>"
      ],
      "text/plain": [
       "   period stateid stateDescription fuelid fuelDescription  co2-rate-lbs-mwh  \\\n",
       "0    2023      AZ          Arizona    COL            Coal               NaN   \n",
       "1    2023      WY          Wyoming    ALL           Total            1864.0   \n",
       "2    2023      WY          Wyoming    PET       Petroleum               NaN   \n",
       "3    2023      WY          Wyoming    OTH           Other               NaN   \n",
       "4    2023      WY          Wyoming     NG     Natural Gas               NaN   \n",
       "\n",
       "   co2-thousand-metric-tons  nox-rate-lbs-mwh  nox-short-tons  \\\n",
       "0                     12863               NaN            9238   \n",
       "1                     36580               1.4           31178   \n",
       "2                        37               NaN              22   \n",
       "3                         0               NaN            3436   \n",
       "4                      1516               NaN            2489   \n",
       "\n",
       "   so2-rate-lbs-mwh  so2-short-tons   co2-rate-lbs-mwh-units  \\\n",
       "0               NaN            6854  pounds per megawatthour   \n",
       "1               1.1           24209  pounds per megawatthour   \n",
       "2               NaN              13  pounds per megawatthour   \n",
       "3               NaN               8  pounds per megawatthour   \n",
       "4               NaN               9  pounds per megawatthour   \n",
       "\n",
       "  co2-thousand-metric-tons-units   nox-rate-lbs-mwh-units  \\\n",
       "0           thousand metric tons  pounds per megawatthour   \n",
       "1           thousand metric tons  pounds per megawatthour   \n",
       "2           thousand metric tons  pounds per megawatthour   \n",
       "3           thousand metric tons  pounds per megawatthour   \n",
       "4           thousand metric tons  pounds per megawatthour   \n",
       "\n",
       "  nox-short-tons-units   so2-rate-lbs-mwh-units so2-short-tons-units  \n",
       "0           short tons  pounds per megawatthour           short tons  \n",
       "1           short tons  pounds per megawatthour           short tons  \n",
       "2           short tons  pounds per megawatthour           short tons  \n",
       "3           short tons  pounds per megawatthour           short tons  \n",
       "4           short tons  pounds per megawatthour           short tons  "
      ]
     },
     "execution_count": 35,
     "metadata": {},
     "output_type": "execute_result"
    }
   ],
   "source": [
    "emissions_df.head()"
   ]
  },
  {
   "cell_type": "code",
   "execution_count": 36,
   "metadata": {
    "colab": {
     "base_uri": "https://localhost:8080/",
     "height": 0
    },
    "id": "0Q838OXsoGgr",
    "outputId": "0538d0e5-3aad-496e-9c7b-92172135df2a"
   },
   "outputs": [
    {
     "name": "stdout",
     "output_type": "stream",
     "text": [
      "Cleaned emissions data:\n",
      "     period  co2-thousand-metric-tons\n",
      "240    2023                     43360\n",
      "\n",
      "Data types:\n",
      "period                      int64\n",
      "co2-thousand-metric-tons    int64\n",
      "dtype: object\n"
     ]
    }
   ],
   "source": [
    "ca_emissions = emissions_df[emissions_df['stateid'] == 'CA']\n",
    "ca_2023_emissions = ca_emissions[ca_emissions['period'] == 2023]\n",
    "ca_2023_emissions_clean = ca_2023_emissions[\n",
    "    (ca_2023_emissions['stateid'] == 'CA') &\n",
    "    (ca_2023_emissions['fuelid'] == 'ALL')\n",
    "][['period', 'co2-thousand-metric-tons']]\n",
    "\n",
    "print(\"Cleaned emissions data:\")\n",
    "print(ca_2023_emissions_clean)\n",
    "print(\"\\nData types:\")\n",
    "print(ca_2023_emissions_clean.dtypes)"
   ]
  },
  {
   "cell_type": "code",
   "execution_count": 37,
   "metadata": {
    "colab": {
     "base_uri": "https://localhost:8080/",
     "height": 89
    },
    "id": "lAkrmQdLmMk0",
    "outputId": "d1f584e5-5f5f-4d4d-8154-96ede625768c"
   },
   "outputs": [
    {
     "data": {
      "text/html": [
       "<div>\n",
       "<style scoped>\n",
       "    .dataframe tbody tr th:only-of-type {\n",
       "        vertical-align: middle;\n",
       "    }\n",
       "\n",
       "    .dataframe tbody tr th {\n",
       "        vertical-align: top;\n",
       "    }\n",
       "\n",
       "    .dataframe thead th {\n",
       "        text-align: right;\n",
       "    }\n",
       "</style>\n",
       "<table border=\"1\" class=\"dataframe\">\n",
       "  <thead>\n",
       "    <tr style=\"text-align: right;\">\n",
       "      <th></th>\n",
       "      <th>period</th>\n",
       "      <th>co2-thousand-metric-tons</th>\n",
       "    </tr>\n",
       "  </thead>\n",
       "  <tbody>\n",
       "    <tr>\n",
       "      <th>240</th>\n",
       "      <td>2023</td>\n",
       "      <td>43360</td>\n",
       "    </tr>\n",
       "  </tbody>\n",
       "</table>\n",
       "</div>"
      ],
      "text/plain": [
       "     period  co2-thousand-metric-tons\n",
       "240    2023                     43360"
      ]
     },
     "execution_count": 37,
     "metadata": {},
     "output_type": "execute_result"
    }
   ],
   "source": [
    "ca_2023_emissions_clean"
   ]
  },
  {
   "cell_type": "code",
   "execution_count": 38,
   "metadata": {},
   "outputs": [
    {
     "data": {
      "text/html": [
       "<div>\n",
       "<style scoped>\n",
       "    .dataframe tbody tr th:only-of-type {\n",
       "        vertical-align: middle;\n",
       "    }\n",
       "\n",
       "    .dataframe tbody tr th {\n",
       "        vertical-align: top;\n",
       "    }\n",
       "\n",
       "    .dataframe thead th {\n",
       "        text-align: right;\n",
       "    }\n",
       "</style>\n",
       "<table border=\"1\" class=\"dataframe\">\n",
       "  <thead>\n",
       "    <tr style=\"text-align: right;\">\n",
       "      <th></th>\n",
       "      <th>month</th>\n",
       "    </tr>\n",
       "  </thead>\n",
       "  <tbody>\n",
       "    <tr>\n",
       "      <th>0</th>\n",
       "      <td>2023-01</td>\n",
       "    </tr>\n",
       "    <tr>\n",
       "      <th>1</th>\n",
       "      <td>2023-02</td>\n",
       "    </tr>\n",
       "    <tr>\n",
       "      <th>2</th>\n",
       "      <td>2023-03</td>\n",
       "    </tr>\n",
       "    <tr>\n",
       "      <th>3</th>\n",
       "      <td>2023-04</td>\n",
       "    </tr>\n",
       "    <tr>\n",
       "      <th>4</th>\n",
       "      <td>2023-05</td>\n",
       "    </tr>\n",
       "  </tbody>\n",
       "</table>\n",
       "</div>"
      ],
      "text/plain": [
       "     month\n",
       "0  2023-01\n",
       "1  2023-02\n",
       "2  2023-03\n",
       "3  2023-04\n",
       "4  2023-05"
      ]
     },
     "execution_count": 38,
     "metadata": {},
     "output_type": "execute_result"
    }
   ],
   "source": [
    "all_months = pd.date_range(start='2023-01-01', end='2023-12-31', freq='M')\n",
    "all_months_df = pd.DataFrame({'month': all_months.strftime('%Y-%m')})\n",
    "all_months_df.head()"
   ]
  },
  {
   "cell_type": "code",
   "execution_count": 39,
   "metadata": {},
   "outputs": [
    {
     "data": {
      "text/html": [
       "<div>\n",
       "<style scoped>\n",
       "    .dataframe tbody tr th:only-of-type {\n",
       "        vertical-align: middle;\n",
       "    }\n",
       "\n",
       "    .dataframe tbody tr th {\n",
       "        vertical-align: top;\n",
       "    }\n",
       "\n",
       "    .dataframe thead th {\n",
       "        text-align: right;\n",
       "    }\n",
       "</style>\n",
       "<table border=\"1\" class=\"dataframe\">\n",
       "  <thead>\n",
       "    <tr style=\"text-align: right;\">\n",
       "      <th></th>\n",
       "      <th>date</th>\n",
       "      <th>datatype</th>\n",
       "      <th>station</th>\n",
       "      <th>attributes</th>\n",
       "      <th>value</th>\n",
       "    </tr>\n",
       "  </thead>\n",
       "  <tbody>\n",
       "    <tr>\n",
       "      <th>0</th>\n",
       "      <td>2023-01-01</td>\n",
       "      <td>TAVG</td>\n",
       "      <td>GHCND:USR0000CABS</td>\n",
       "      <td>,,U,</td>\n",
       "      <td>64</td>\n",
       "    </tr>\n",
       "    <tr>\n",
       "      <th>1</th>\n",
       "      <td>2023-01-01</td>\n",
       "      <td>TAVG</td>\n",
       "      <td>GHCND:USR0000CSFD</td>\n",
       "      <td>,,U,</td>\n",
       "      <td>123</td>\n",
       "    </tr>\n",
       "    <tr>\n",
       "      <th>2</th>\n",
       "      <td>2023-01-01</td>\n",
       "      <td>TAVG</td>\n",
       "      <td>GHCND:USR0000CSEC</td>\n",
       "      <td>,,U,</td>\n",
       "      <td>45</td>\n",
       "    </tr>\n",
       "    <tr>\n",
       "      <th>3</th>\n",
       "      <td>2023-01-01</td>\n",
       "      <td>TAVG</td>\n",
       "      <td>GHCND:USR0000CSDD</td>\n",
       "      <td>,,U,</td>\n",
       "      <td>-54</td>\n",
       "    </tr>\n",
       "    <tr>\n",
       "      <th>4</th>\n",
       "      <td>2023-01-01</td>\n",
       "      <td>TAVG</td>\n",
       "      <td>GHCND:USR0000CSDC</td>\n",
       "      <td>,,U,</td>\n",
       "      <td>29</td>\n",
       "    </tr>\n",
       "  </tbody>\n",
       "</table>\n",
       "</div>"
      ],
      "text/plain": [
       "         date datatype            station attributes  value\n",
       "0  2023-01-01     TAVG  GHCND:USR0000CABS       ,,U,     64\n",
       "1  2023-01-01     TAVG  GHCND:USR0000CSFD       ,,U,    123\n",
       "2  2023-01-01     TAVG  GHCND:USR0000CSEC       ,,U,     45\n",
       "3  2023-01-01     TAVG  GHCND:USR0000CSDD       ,,U,    -54\n",
       "4  2023-01-01     TAVG  GHCND:USR0000CSDC       ,,U,     29"
      ]
     },
     "execution_count": 39,
     "metadata": {},
     "output_type": "execute_result"
    }
   ],
   "source": [
    "temperature_df.head()"
   ]
  },
  {
   "cell_type": "code",
   "execution_count": 40,
   "metadata": {
    "colab": {
     "base_uri": "https://localhost:8080/",
     "height": 0
    },
    "id": "BuHfI-KSnqkc",
    "outputId": "363d951b-e4dc-424e-816b-7121a90e488d"
   },
   "outputs": [
    {
     "name": "stdout",
     "output_type": "stream",
     "text": [
      "Monthly average temperatures (Celsius):\n",
      "      month       value\n",
      "0   2023-01    6.022309\n",
      "1   2023-02    5.218220\n",
      "2   2023-03    8.954648\n",
      "3   2023-04   40.973069\n",
      "4   2023-05   59.024418\n",
      "5   2023-06   74.128738\n",
      "6   2023-07  113.862444\n",
      "7   2023-08  103.899591\n",
      "8   2023-09   79.073974\n",
      "9   2023-10   64.043716\n",
      "10  2023-11   35.190453\n",
      "11  2023-12   25.527321\n",
      "\n",
      "Missing months:\n",
      "Empty DataFrame\n",
      "Columns: [month, value]\n",
      "Index: []\n"
     ]
    }
   ],
   "source": [
    "# Convert to Celsius and handle missing months\n",
    "temperature_df['month'] = temperature_df['date'].apply(lambda x: x[:7])\n",
    "monthly_temp = temperature_df[['month', 'value']].groupby('month').mean()\n",
    "monthly_temp['value'] = (monthly_temp['value'] - 32) * 5/9  # Convert F to C\n",
    "\n",
    "# Create a complete month range\n",
    "all_months = pd.date_range(start='2023-01-01', end='2023-12-31', freq='M')\n",
    "all_months_df = pd.DataFrame({'month': all_months.strftime('%Y-%m')})\n",
    "\n",
    "monthly_temp_complete = pd.merge(all_months_df, monthly_temp, on='month', how='left')\n",
    "\n",
    "print(\"Monthly average temperatures (Celsius):\")\n",
    "print(monthly_temp_complete)\n",
    "print(\"\\nMissing months:\")\n",
    "print(monthly_temp_complete[monthly_temp_complete['value'].isna()])"
   ]
  },
  {
   "cell_type": "code",
   "execution_count": 41,
   "metadata": {
    "colab": {
     "base_uri": "https://localhost:8080/",
     "height": 0
    },
    "id": "ionmmtVCq7s5",
    "outputId": "521be544-7c1b-4d16-dd7b-48d6dacfb470"
   },
   "outputs": [
    {
     "name": "stdout",
     "output_type": "stream",
     "text": [
      "Energy consumption data:\n",
      "     period        sales\n",
      "0   2024-01  20040.74935\n",
      "1   2023-12  18660.12634\n",
      "2   2023-11  18479.20564\n",
      "3   2023-10  20390.47299\n",
      "4   2023-09  22466.03859\n",
      "5   2023-08  25101.55563\n",
      "6   2023-07  23048.26218\n",
      "7   2023-06  19333.43379\n",
      "8   2023-05  18288.41200\n",
      "9   2023-04  16261.33366\n",
      "10  2023-03  19506.41869\n",
      "11  2023-02  17440.48579\n",
      "\n",
      "Data types:\n",
      "period               object\n",
      "stateid              object\n",
      "stateDescription     object\n",
      "sectorid             object\n",
      "sectorName           object\n",
      "sales               float64\n",
      "sales-units          object\n",
      "dtype: object\n"
     ]
    }
   ],
   "source": [
    "# Check energy data\n",
    "print(\"Energy consumption data:\")\n",
    "print(energy_df[energy_df['stateid'] == 'CA'][['period', 'sales']].head(12))\n",
    "print(\"\\nData types:\")\n",
    "print(energy_df.dtypes)"
   ]
  },
  {
   "cell_type": "code",
   "execution_count": 42,
   "metadata": {
    "colab": {
     "base_uri": "https://localhost:8080/",
     "height": 0
    },
    "id": "SaU4WNPNrJhw",
    "outputId": "494e04a3-b4f7-4284-c2ef-b4bcdb01e777"
   },
   "outputs": [
    {
     "name": "stdout",
     "output_type": "stream",
     "text": [
      "Final dataset for causal analysis:\n",
      "      month  temperature  energy_demand    emissions\n",
      "0   2023-01     6.022309    20504.70675  3613.333333\n",
      "1   2023-02     5.218220    17440.48579  3613.333333\n",
      "2   2023-03     8.954648    19506.41869  3613.333333\n",
      "3   2023-04    40.973069    16261.33366  3613.333333\n",
      "4   2023-05    59.024418    18288.41200  3613.333333\n",
      "5   2023-06    74.128738    19333.43379  3613.333333\n",
      "6   2023-07   113.862444    23048.26218  3613.333333\n",
      "7   2023-08   103.899591    25101.55563  3613.333333\n",
      "8   2023-09    79.073974    22466.03859  3613.333333\n",
      "9   2023-10    64.043716    20390.47299  3613.333333\n",
      "10  2023-11    35.190453    18479.20564  3613.333333\n",
      "11  2023-12    25.527321    18660.12634  3613.333333\n",
      "\n",
      "Data types:\n",
      "month             object\n",
      "temperature      float64\n",
      "energy_demand    float64\n",
      "emissions        float64\n",
      "dtype: object\n",
      "\n",
      "Correlations:\n",
      "               temperature  energy_demand  emissions\n",
      "temperature       1.000000       0.695788        NaN\n",
      "energy_demand     0.695788       1.000000        NaN\n",
      "emissions              NaN            NaN        NaN\n"
     ]
    }
   ],
   "source": [
    "# only include 2023\n",
    "energy_clean = energy_df[\n",
    "    (energy_df['stateid'] == 'CA') &\n",
    "    (energy_df['period'].str.startswith('2023'))\n",
    "].copy()\n",
    "\n",
    "energy_clean['month'] = pd.to_datetime(energy_clean['period']).dt.strftime('%Y-%m')\n",
    "final_df = pd.merge(monthly_temp, energy_clean[['month', 'sales']], on='month')\n",
    "final_df = final_df.rename(columns={'value': 'temperature', 'sales': 'energy_demand'})\n",
    "\n",
    "final_df['emissions'] = ca_2023_emissions_clean['co2-thousand-metric-tons'].values[0] / 12\n",
    "\n",
    "print(\"Final dataset for causal analysis:\")\n",
    "print(final_df)\n",
    "print(\"\\nData types:\")\n",
    "print(final_df.dtypes)\n",
    "\n",
    "# Basic correlations\n",
    "print(\"\\nCorrelations:\")\n",
    "print(final_df[['temperature', 'energy_demand', 'emissions']].corr())"
   ]
  },
  {
   "cell_type": "code",
   "execution_count": 43,
   "metadata": {
    "colab": {
     "base_uri": "https://localhost:8080/",
     "height": 1018
    },
    "id": "GWIASz3CrOAH",
    "outputId": "f72a1b59-e38c-43cd-9513-e79ae379fdb6"
   },
   "outputs": [
    {
     "name": "stdout",
     "output_type": "stream",
     "text": [
      "First Stage Results (Temperature -> Energy Demand):\n",
      "===============================================================================\n",
      "                  coef    std err          t      P>|t|      [0.025      0.975]\n",
      "-------------------------------------------------------------------------------\n",
      "const        1.753e+04    963.128     18.203      0.000    1.54e+04    1.97e+04\n",
      "temperature    47.2421     15.421      3.063      0.012      12.881      81.603\n",
      "===============================================================================\n"
     ]
    },
    {
     "name": "stderr",
     "output_type": "stream",
     "text": [
      "/Users/areeyatipyasothi/opt/anaconda3/lib/python3.9/site-packages/scipy/stats/_stats_py.py:1769: UserWarning: kurtosistest only valid for n>=20 ... continuing anyway, n=12\n",
      "  warnings.warn(\"kurtosistest only valid for n>=20 ... continuing \"\n"
     ]
    },
    {
     "data": {
      "image/png": "[encoded data removed]",
      "text/plain": [
       "<Figure size 1000x600 with 1 Axes>"
      ]
     },
     "metadata": {},
     "output_type": "display_data"
    },
    {
     "data": {
      "image/png": "[encoded data removed]",
      "text/plain": [
       "<Figure size 1000x600 with 1 Axes>"
      ]
     },
     "metadata": {},
     "output_type": "display_data"
    }
   ],
   "source": [
    "from statsmodels.stats.outliers_influence import variance_inflation_factor\n",
    "from statsmodels.regression.linear_model import OLS\n",
    "import statsmodels.api as sm\n",
    "\n",
    "X_first = sm.add_constant(final_df['temperature'])\n",
    "first_stage = sm.OLS(final_df['energy_demand'], X_first).fit()\n",
    "\n",
    "energy_demand_predicted = first_stage.predict(X_first)\n",
    "\n",
    "print(\"First Stage Results (Temperature -> Energy Demand):\")\n",
    "print(first_stage.summary().tables[1])\n",
    "\n",
    "import matplotlib.pyplot as plt\n",
    "\n",
    "# Plot actual vs predicted energy demand\n",
    "plt.figure(figsize=(10, 6))\n",
    "plt.scatter(final_df['temperature'], final_df['energy_demand'], alpha=0.5, label='Actual')\n",
    "plt.plot(final_df['temperature'], energy_demand_predicted, color='red', label='Predicted')\n",
    "plt.xlabel('Temperature (Celsius)')\n",
    "plt.ylabel('Energy Demand (million kWh)')\n",
    "plt.title('Temperature vs Energy Demand: First Stage Relationship')\n",
    "plt.legend()\n",
    "plt.show()\n",
    "\n",
    "# Plot residuals\n",
    "residuals = first_stage.resid\n",
    "plt.figure(figsize=(10, 6))\n",
    "plt.scatter(energy_demand_predicted, residuals)\n",
    "plt.axhline(y=0, color='r', linestyle='--')\n",
    "plt.xlabel('Predicted Energy Demand')\n",
    "plt.ylabel('Residuals')\n",
    "plt.title('First Stage Residual Plot')\n",
    "plt.show()"
   ]
  },
  {
   "cell_type": "code",
   "execution_count": 44,
   "metadata": {
    "colab": {
     "base_uri": "https://localhost:8080/",
     "height": 0
    },
    "id": "Fie3o54IrUhW",
    "outputId": "11010113-dfe6-4c13-90b1-5e4c8fcd2175"
   },
   "outputs": [
    {
     "name": "stdout",
     "output_type": "stream",
     "text": [
      "                            OLS Regression Results                            \n",
      "==============================================================================\n",
      "Dep. Variable:              emissions   R-squared:                      -8.000\n",
      "Model:                            OLS   Adj. R-squared:                 -8.900\n",
      "Method:                 Least Squares   F-statistic:                    -8.889\n",
      "Date:                Fri, 06 Dec 2024   Prob (F-statistic):               1.00\n",
      "Time:                        19:01:01   Log-Likelihood:                 310.82\n",
      "No. Observations:                  12   AIC:                            -617.6\n",
      "Df Residuals:                      10   BIC:                            -616.7\n",
      "Df Model:                           1                                         \n",
      "Covariance Type:            nonrobust                                         \n",
      "==============================================================================\n",
      "                 coef    std err          t      P>|t|      [0.025      0.975]\n",
      "------------------------------------------------------------------------------\n",
      "const       3613.3333   5.14e-12   7.03e+14      0.000    3613.333    3613.333\n",
      "0           4.163e-17   2.57e-16      0.162      0.874    -5.3e-16    6.13e-16\n",
      "==============================================================================\n",
      "Omnibus:                          nan   Durbin-Watson:                   0.000\n",
      "Prob(Omnibus):                    nan   Jarque-Bera (JB):                  nan\n",
      "Skew:                             nan   Prob(JB):                          nan\n",
      "Kurtosis:                         nan   Cond. No.                     2.39e+05\n",
      "==============================================================================\n",
      "\n",
      "Notes:\n",
      "[1] Standard Errors assume that the covariance matrix of the errors is correctly specified.\n",
      "[2] The condition number is large, 2.39e+05. This might indicate that there are\n",
      "strong multicollinearity or other numerical problems.\n"
     ]
    },
    {
     "name": "stderr",
     "output_type": "stream",
     "text": [
      "/Users/areeyatipyasothi/opt/anaconda3/lib/python3.9/site-packages/statsmodels/stats/stattools.py:125: RuntimeWarning: Precision loss occurred in moment calculation due to catastrophic cancellation. This occurs when the data are nearly identical. Results may be unreliable.\n",
      "  skew = stats.skew(resids, axis=axis)\n",
      "/Users/areeyatipyasothi/opt/anaconda3/lib/python3.9/site-packages/statsmodels/stats/stattools.py:126: RuntimeWarning: Precision loss occurred in moment calculation due to catastrophic cancellation. This occurs when the data are nearly identical. Results may be unreliable.\n",
      "  kurtosis = 3 + stats.kurtosis(resids, axis=axis)\n",
      "/Users/areeyatipyasothi/opt/anaconda3/lib/python3.9/site-packages/scipy/stats/_stats_py.py:1667: RuntimeWarning: Precision loss occurred in moment calculation due to catastrophic cancellation. This occurs when the data are nearly identical. Results may be unreliable.\n",
      "  b2 = skew(a, axis)\n",
      "/Users/areeyatipyasothi/opt/anaconda3/lib/python3.9/site-packages/scipy/stats/_stats_py.py:1769: UserWarning: kurtosistest only valid for n>=20 ... continuing anyway, n=12\n",
      "  warnings.warn(\"kurtosistest only valid for n>=20 ... continuing \"\n",
      "/Users/areeyatipyasothi/opt/anaconda3/lib/python3.9/site-packages/scipy/stats/_stats_py.py:1771: RuntimeWarning: Precision loss occurred in moment calculation due to catastrophic cancellation. This occurs when the data are nearly identical. Results may be unreliable.\n",
      "  b2 = kurtosis(a, axis, fisher=False)\n"
     ]
    }
   ],
   "source": [
    "# Second stage regression\n",
    "X_second = sm.add_constant(energy_demand_predicted)\n",
    "second_stage = sm.OLS(final_df['emissions'], X_second).fit()\n",
    "print(second_stage.summary())\n"
   ]
  },
  {
   "cell_type": "markdown",
   "metadata": {
    "id": "iJl_Hxo9snAb"
   },
   "source": [
    "let's try distributing emissions proportionally\n"
   ]
  },
  {
   "cell_type": "code",
   "execution_count": 45,
   "metadata": {
    "colab": {
     "base_uri": "https://localhost:8080/",
     "height": 0
    },
    "id": "C9EnhSUlssPb",
    "outputId": "1e4854b0-0a1b-4ac0-f2cf-82a4eafdc3ac"
   },
   "outputs": [
    {
     "name": "stdout",
     "output_type": "stream",
     "text": [
      "Updated emissions data:\n",
      "      month    emissions\n",
      "0   2023-01  3712.553894\n",
      "1   2023-02  3157.750277\n",
      "2   2023-03  3531.805236\n",
      "3   2023-04  2944.254621\n",
      "4   2023-05  3311.274626\n",
      "5   2023-06  3500.484829\n",
      "6   2023-07  4173.086528\n",
      "7   2023-08  4544.853005\n",
      "8   2023-09  4067.669928\n",
      "9   2023-10  3691.870887\n",
      "10  2023-11  3345.819459\n",
      "11  2023-12  3378.576711\n"
     ]
    }
   ],
   "source": [
    "# Distribute annual emissions based on energy demand\n",
    "total_energy = energy_clean['sales'].sum()  # Total energy demand for 2023\n",
    "final_df['emissions'] = final_df['energy_demand'] / total_energy * ca_2023_emissions_clean['co2-thousand-metric-tons'].values[0]\n",
    "\n",
    "print(\"Updated emissions data:\")\n",
    "print(final_df[['month', 'emissions']])\n"
   ]
  },
  {
   "cell_type": "code",
   "execution_count": 46,
   "metadata": {
    "colab": {
     "base_uri": "https://localhost:8080/",
     "height": 0
    },
    "id": "pkLRl_BCss42",
    "outputId": "71b1885d-4a57-4c7f-cd84-47a5413965a0"
   },
   "outputs": [
    {
     "name": "stdout",
     "output_type": "stream",
     "text": [
      "Second Stage Results (Energy Demand -> Emissions):\n",
      "                            OLS Regression Results                            \n",
      "==============================================================================\n",
      "Dep. Variable:              emissions   R-squared:                       0.681\n",
      "Model:                            OLS   Adj. R-squared:                  0.649\n",
      "Method:                 Least Squares   F-statistic:                     21.35\n",
      "Date:                Fri, 06 Dec 2024   Prob (F-statistic):           0.000949\n",
      "Time:                        19:01:04   Log-Likelihood:                -83.142\n",
      "No. Observations:                  12   AIC:                             170.3\n",
      "Df Residuals:                      10   BIC:                             171.3\n",
      "Df Model:                           1                                         \n",
      "Covariance Type:            nonrobust                                         \n",
      "==================================================================================================\n",
      "                                     coef    std err          t      P>|t|      [0.025      0.975]\n",
      "--------------------------------------------------------------------------------------------------\n",
      "const                          -2.274e-11    785.856  -2.89e-14      1.000   -1750.995    1750.995\n",
      "energy_demand_predicted_square     0.1811      0.039      4.621      0.001       0.094       0.268\n",
      "==============================================================================\n",
      "Omnibus:                        2.102   Durbin-Watson:                   1.789\n",
      "Prob(Omnibus):                  0.350   Jarque-Bera (JB):                0.926\n",
      "Skew:                          -0.147   Prob(JB):                        0.629\n",
      "Kurtosis:                       1.672   Cond. No.                     2.02e+05\n",
      "==============================================================================\n",
      "\n",
      "Notes:\n",
      "[1] Standard Errors assume that the covariance matrix of the errors is correctly specified.\n",
      "[2] The condition number is large, 2.02e+05. This might indicate that there are\n",
      "strong multicollinearity or other numerical problems.\n"
     ]
    },
    {
     "name": "stderr",
     "output_type": "stream",
     "text": [
      "/Users/areeyatipyasothi/opt/anaconda3/lib/python3.9/site-packages/scipy/stats/_stats_py.py:1769: UserWarning: kurtosistest only valid for n>=20 ... continuing anyway, n=12\n",
      "  warnings.warn(\"kurtosistest only valid for n>=20 ... continuing \"\n"
     ]
    }
   ],
   "source": [
    "# Add squared temperature term for non-linear effects\n",
    "final_df['temperature_squared'] = final_df['temperature'] ** (2)\n",
    "\n",
    "# First-stage regression (include non-linear term)\n",
    "X_first = sm.add_constant(final_df[['temperature', 'temperature_squared']])\n",
    "first_stage_square = sm.OLS(final_df['energy_demand'], X_first).fit()\n",
    "\n",
    "# Predict energy demand\n",
    "final_df['energy_demand_predicted_square'] = first_stage_square.predict(X_first)\n",
    "\n",
    "# Second-stage regression\n",
    "X_second = sm.add_constant(final_df['energy_demand_predicted_square'])\n",
    "second_stage = sm.OLS(final_df['emissions'], X_second).fit()\n",
    "\n",
    "# Print results\n",
    "print(\"Second Stage Results (Energy Demand -> Emissions):\")\n",
    "print(second_stage.summary())\n"
   ]
  },
  {
   "cell_type": "code",
   "execution_count": 47,
   "metadata": {},
   "outputs": [
    {
     "name": "stdout",
     "output_type": "stream",
     "text": [
      "Second Stage Results (Energy Demand -> Emissions):\n",
      "                            OLS Regression Results                            \n",
      "==============================================================================\n",
      "Dep. Variable:              emissions   R-squared:                       0.681\n",
      "Model:                            OLS   Adj. R-squared:                  0.649\n",
      "Method:                 Least Squares   F-statistic:                     21.35\n",
      "Date:                Fri, 06 Dec 2024   Prob (F-statistic):           0.000949\n",
      "Time:                        19:01:06   Log-Likelihood:                -83.142\n",
      "No. Observations:                  12   AIC:                             170.3\n",
      "Df Residuals:                      10   BIC:                             171.3\n",
      "Df Model:                           1                                         \n",
      "Covariance Type:            nonrobust                                         \n",
      "================================================================================================\n",
      "                                   coef    std err          t      P>|t|      [0.025      0.975]\n",
      "------------------------------------------------------------------------------------------------\n",
      "const                        -2.274e-11    785.856  -2.89e-14      1.000   -1750.995    1750.995\n",
      "energy_demand_predicted_sqrt     0.1811      0.039      4.621      0.001       0.094       0.268\n",
      "==============================================================================\n",
      "Omnibus:                        2.102   Durbin-Watson:                   1.789\n",
      "Prob(Omnibus):                  0.350   Jarque-Bera (JB):                0.926\n",
      "Skew:                          -0.147   Prob(JB):                        0.629\n",
      "Kurtosis:                       1.672   Cond. No.                     2.02e+05\n",
      "==============================================================================\n",
      "\n",
      "Notes:\n",
      "[1] Standard Errors assume that the covariance matrix of the errors is correctly specified.\n",
      "[2] The condition number is large, 2.02e+05. This might indicate that there are\n",
      "strong multicollinearity or other numerical problems.\n"
     ]
    },
    {
     "name": "stderr",
     "output_type": "stream",
     "text": [
      "/Users/areeyatipyasothi/opt/anaconda3/lib/python3.9/site-packages/scipy/stats/_stats_py.py:1769: UserWarning: kurtosistest only valid for n>=20 ... continuing anyway, n=12\n",
      "  warnings.warn(\"kurtosistest only valid for n>=20 ... continuing \"\n"
     ]
    }
   ],
   "source": [
    "# Add squared temperature term for non-linear effects\n",
    "final_df['temperature_sqrt'] = final_df['temperature'] ** (1/2)\n",
    "\n",
    "# First-stage regression (include non-linear term)\n",
    "X_first = sm.add_constant(final_df[['temperature', 'temperature_squared']])\n",
    "first_stage_sqrt = sm.OLS(final_df['energy_demand'], X_first).fit()\n",
    "\n",
    "# Predict energy demand\n",
    "final_df['energy_demand_predicted_sqrt'] = first_stage_sqrt.predict(X_first)\n",
    "\n",
    "# Second-stage regression\n",
    "X_second = sm.add_constant(final_df['energy_demand_predicted_sqrt'])\n",
    "second_stage = sm.OLS(final_df['emissions'], X_second).fit()\n",
    "\n",
    "# Print results\n",
    "print(\"Second Stage Results (Energy Demand -> Emissions):\")\n",
    "print(second_stage.summary())"
   ]
  },
  {
   "cell_type": "code",
   "execution_count": 48,
   "metadata": {},
   "outputs": [
    {
     "ename": "ValueError",
     "evalue": "shapes (12,3) and (2,) not aligned: 3 (dim 1) != 2 (dim 0)",
     "output_type": "error",
     "traceback": [
      "\u001b[0;31m---------------------------------------------------------------------------\u001b[0m",
      "\u001b[0;31mValueError\u001b[0m                                Traceback (most recent call last)",
      "\u001b[0;32m/var/folders/tz/5j9v7djs4bs47wv8xfkfr9p80000gn/T/ipykernel_29997/2906773803.py\u001b[0m in \u001b[0;36m<module>\u001b[0;34m\u001b[0m\n\u001b[1;32m      7\u001b[0m \u001b[0;34m\u001b[0m\u001b[0m\n\u001b[1;32m      8\u001b[0m \u001b[0;31m# Predict energy demand\u001b[0m\u001b[0;34m\u001b[0m\u001b[0;34m\u001b[0m\u001b[0m\n\u001b[0;32m----> 9\u001b[0;31m \u001b[0mfinal_df\u001b[0m\u001b[0;34m[\u001b[0m\u001b[0;34m'energy_demand_predicted_exp'\u001b[0m\u001b[0;34m]\u001b[0m \u001b[0;34m=\u001b[0m \u001b[0mfirst_stage\u001b[0m\u001b[0;34m.\u001b[0m\u001b[0mpredict\u001b[0m\u001b[0;34m(\u001b[0m\u001b[0mX_first\u001b[0m\u001b[0;34m)\u001b[0m\u001b[0;34m\u001b[0m\u001b[0;34m\u001b[0m\u001b[0m\n\u001b[0m\u001b[1;32m     10\u001b[0m \u001b[0;34m\u001b[0m\u001b[0m\n\u001b[1;32m     11\u001b[0m \u001b[0;31m# Second-stage regression\u001b[0m\u001b[0;34m\u001b[0m\u001b[0;34m\u001b[0m\u001b[0m\n",
      "\u001b[0;32m~/opt/anaconda3/lib/python3.9/site-packages/statsmodels/base/model.py\u001b[0m in \u001b[0;36mpredict\u001b[0;34m(self, exog, transform, *args, **kwargs)\u001b[0m\n\u001b[1;32m   1157\u001b[0m             \u001b[0mexog\u001b[0m \u001b[0;34m=\u001b[0m \u001b[0mnp\u001b[0m\u001b[0;34m.\u001b[0m\u001b[0matleast_2d\u001b[0m\u001b[0;34m(\u001b[0m\u001b[0mexog\u001b[0m\u001b[0;34m)\u001b[0m  \u001b[0;31m# needed in count model shape[1]\u001b[0m\u001b[0;34m\u001b[0m\u001b[0;34m\u001b[0m\u001b[0m\n\u001b[1;32m   1158\u001b[0m \u001b[0;34m\u001b[0m\u001b[0m\n\u001b[0;32m-> 1159\u001b[0;31m         predict_results = self.model.predict(self.params, exog, *args,\n\u001b[0m\u001b[1;32m   1160\u001b[0m                                              **kwargs)\n\u001b[1;32m   1161\u001b[0m \u001b[0;34m\u001b[0m\u001b[0m\n",
      "\u001b[0;32m~/opt/anaconda3/lib/python3.9/site-packages/statsmodels/regression/linear_model.py\u001b[0m in \u001b[0;36mpredict\u001b[0;34m(self, params, exog)\u001b[0m\n\u001b[1;32m    379\u001b[0m             \u001b[0mexog\u001b[0m \u001b[0;34m=\u001b[0m \u001b[0mself\u001b[0m\u001b[0;34m.\u001b[0m\u001b[0mexog\u001b[0m\u001b[0;34m\u001b[0m\u001b[0;34m\u001b[0m\u001b[0m\n\u001b[1;32m    380\u001b[0m \u001b[0;34m\u001b[0m\u001b[0m\n\u001b[0;32m--> 381\u001b[0;31m         \u001b[0;32mreturn\u001b[0m \u001b[0mnp\u001b[0m\u001b[0;34m.\u001b[0m\u001b[0mdot\u001b[0m\u001b[0;34m(\u001b[0m\u001b[0mexog\u001b[0m\u001b[0;34m,\u001b[0m \u001b[0mparams\u001b[0m\u001b[0;34m)\u001b[0m\u001b[0;34m\u001b[0m\u001b[0;34m\u001b[0m\u001b[0m\n\u001b[0m\u001b[1;32m    382\u001b[0m \u001b[0;34m\u001b[0m\u001b[0m\n\u001b[1;32m    383\u001b[0m     \u001b[0;32mdef\u001b[0m \u001b[0mget_distribution\u001b[0m\u001b[0;34m(\u001b[0m\u001b[0mself\u001b[0m\u001b[0;34m,\u001b[0m \u001b[0mparams\u001b[0m\u001b[0;34m,\u001b[0m \u001b[0mscale\u001b[0m\u001b[0;34m,\u001b[0m \u001b[0mexog\u001b[0m\u001b[0;34m=\u001b[0m\u001b[0;32mNone\u001b[0m\u001b[0;34m,\u001b[0m \u001b[0mdist_class\u001b[0m\u001b[0;34m=\u001b[0m\u001b[0;32mNone\u001b[0m\u001b[0;34m)\u001b[0m\u001b[0;34m:\u001b[0m\u001b[0;34m\u001b[0m\u001b[0;34m\u001b[0m\u001b[0m\n",
      "\u001b[0;32m<__array_function__ internals>\u001b[0m in \u001b[0;36mdot\u001b[0;34m(*args, **kwargs)\u001b[0m\n",
      "\u001b[0;31mValueError\u001b[0m: shapes (12,3) and (2,) not aligned: 3 (dim 1) != 2 (dim 0)"
     ]
    }
   ],
   "source": [
    "# Add squared temperature term for non-linear effects\n",
    "final_df['temperature_exp'] = np.exp(final_df['temperature']) \n",
    "\n",
    "# First-stage regression (include non-linear term)\n",
    "X_first = sm.add_constant(final_df[['temperature', 'temperature_squared']])\n",
    "first_stage_exp = sm.OLS(final_df['energy_demand'], X_first).fit()\n",
    "\n",
    "# Predict energy demand\n",
    "final_df['energy_demand_predicted_exp'] = first_stage.predict(X_first)\n",
    "\n",
    "# Second-stage regression\n",
    "X_second = sm.add_constant(final_df['energy_demand_predicted_exp'])\n",
    "second_stage = sm.OLS(final_df['emissions'], X_second).fit()\n",
    "\n",
    "# Print results\n",
    "print(\"Second Stage Results (Energy Demand -> Emissions):\")\n",
    "print(second_stage.summary())"
   ]
  },
  {
   "cell_type": "code",
   "execution_count": null,
   "metadata": {},
   "outputs": [],
   "source": [
    "# Add squared temperature term for non-linear effects\n",
    "final_df['temperature_log'] = np.log(final_df['temperature'])\n",
    "\n",
    "# First-stage regression (include non-linear term)\n",
    "X_first = sm.add_constant(final_df[['temperature', 'temperature_squared']])\n",
    "first_stage_log = sm.OLS(final_df['energy_demand'], X_first).fit()\n",
    "\n",
    "# Predict energy demand\n",
    "final_df['energy_demand_predicted_log'] = first_stage_log.predict(X_first)\n",
    "\n",
    "# Second-stage regression\n",
    "X_second = sm.add_constant(final_df['energy_demand_predicted_log'])\n",
    "second_stage = sm.OLS(final_df['emissions'], X_second).fit()\n",
    "\n",
    "# Print results\n",
    "print(\"Second Stage Results (Energy Demand -> Emissions):\")\n",
    "print(second_stage.summary())"
   ]
  },
  {
   "cell_type": "code",
   "execution_count": null,
   "metadata": {},
   "outputs": [],
   "source": [
    "\n",
    "# First-stage regression (include non-linear term)\n",
    "first_stage= sm.OLS(final_df['energy_demand'], X_first).fit()\n",
    "\n",
    "# Predict energy demand\n",
    "final_df['energy_demand_predicted'] = first_stage.predict(X_first)\n",
    "\n",
    "# Second-stage regression\n",
    "X_second = sm.add_constant(final_df['energy_demand_predicted_log'])\n",
    "second_stage = sm.OLS(final_df['emissions'], X_second).fit()\n",
    "\n",
    "# Print results\n",
    "print(\"Second Stage Results (Energy Demand -> Emissions):\")\n",
    "print(second_stage.summary())"
   ]
  },
  {
   "cell_type": "code",
   "execution_count": null,
   "metadata": {
    "colab": {
     "base_uri": "https://localhost:8080/",
     "height": 489
    },
    "id": "g1xeofj_su4M",
    "outputId": "e8705aad-9837-4622-cb6d-a3b0200bfcc0"
   },
   "outputs": [],
   "source": [
    "# Residuals of second stage\n",
    "residuals = second_stage.resid\n",
    "\n",
    "# Residual plot\n",
    "plt.scatter(final_df['energy_demand_predicted'], residuals, alpha=0.5)\n",
    "plt.axhline(0, color='red', linestyle='--')\n",
    "plt.xlabel('Predicted Energy Demand')\n",
    "plt.ylabel('Residuals')\n",
    "plt.title('Residual Plot: Energy Demand -> Emissions')\n",
    "plt.show()\n",
    "\n",
    "# Breusch-Pagan test\n",
    "from statsmodels.stats.diagnostic import het_breuschpagan\n",
    "bp_test = het_breuschpagan(residuals, X_second)\n",
    "print(\"Breusch-Pagan Test Results:\", bp_test)\n"
   ]
  },
  {
   "cell_type": "code",
   "execution_count": null,
   "metadata": {
    "id": "zHB0GQg0s0aB"
   },
   "outputs": [],
   "source": [
    "# Plot actual vs predicted energy demand\n",
    "plt.figure(figsize=(10, 6))\n",
    "fig, ax = plt.subplots()\n",
    "ax.scatter(final_df['temperature'], final_df['energy_demand'], alpha=0.5, label='Actual')\n",
    "ax.plot(final_df['temperature'], final_df['energy_demand_predicted_log'], color='red', label='Predicted_log')\n",
    "ax.plot(final_df['temperature'], final_df['energy_demand_predicted_square'], color='green', label='Predicted_square')\n",
    "ax.plot(final_df['temperature'], final_df['energy_demand_predicted_sqrt'], color='orange', label='Predicted_sqrt')\n",
    "ax.plot(final_df['temperature'], final_df['energy_demand_predicted'], color='black', label='Predicted')\n",
    "plt.xlabel('Temperature (Celsius)')\n",
    "plt.ylabel('Energy Demand (million kWh)')\n",
    "plt.title('Temperature vs Energy Demand: First Stage Relationship')\n",
    "plt.legend()\n",
    "plt.show()"
   ]
  },
  {
   "cell_type": "code",
   "execution_count": null,
   "metadata": {},
   "outputs": [],
   "source": [
    "final_df.head()"
   ]
  },
  {
   "cell_type": "markdown",
   "metadata": {},
   "source": [
    "As we can see with the various models, there seems to be a relationship between the square root of the energy demand and the temperature. In comparison to the other models, we can see that this one perfoms at a better level from the higher AIC and BIC numbers, as well as a slightly higher log-likelihood."
   ]
  },
  {
   "cell_type": "markdown",
   "metadata": {},
   "source": [
    "There are limitations in our method, as we are extrapolating the emissions based on demand over the whole year. This does not take into account the possibility of energy prodution efficiency being different across different months (ie some months having a higher proportion created by renewable energy), and it does not fully dicount the confounder of seasonal changes in temperature. In addition, we have not taken into account the vast space and spread out nature of California, and the nonuniform nature of emissions across the state."
   ]
  },
  {
   "cell_type": "code",
   "execution_count": 52,
   "metadata": {},
   "outputs": [
    {
     "data": {
      "image/png": "[encoded data removed]",
      "text/plain": [
       "<Figure size 640x480 with 1 Axes>"
      ]
     },
     "metadata": {},
     "output_type": "display_data"
    }
   ],
   "source": [
    "import networkx as nx\n",
    "import matplotlib.pyplot as plt\n",
    "        \n",
    "# Create causal dag\n",
    "cg = nx.DiGraph()\n",
    "# Variable strings\n",
    "elde = 'Electricity\\n demand'\n",
    "caem = 'Carbon\\n emissions'\n",
    "temex = 'Temperature\\n extremes'\n",
    "#confounders\n",
    "ecac = 'Economic\\nActivity'\n",
    "enpo = 'Energy\\npolicies'\n",
    "inim = 'Industrial\\nimpact'\n",
    "cg.add_edges_from([(elde, caem), (temex, elde), ('Confounders',elde),('Confounders',caem)])\n",
    "nx.draw(cg, with_labels=True,node_size=5000, node_color='lightgray')"
   ]
  },
  {
   "cell_type": "code",
   "execution_count": null,
   "metadata": {},
   "outputs": [],
   "source": []
  }
 ],
 "metadata": {
  "colab": {
   "authorship_tag": "ABX9TyPrI1IxkgB11nXaHCzhGT8x",
   "include_colab_link": true,
   "provenance": []
  },
  "kernelspec": {
   "display_name": "Python 3 (ipykernel)",
   "language": "python",
   "name": "python3"
  },
  "language_info": {
   "codemirror_mode": {
    "name": "ipython",
    "version": 3
   },
   "file_extension": ".py",
   "mimetype": "text/x-python",
   "name": "python",
   "nbconvert_exporter": "python",
   "pygments_lexer": "ipython3",
   "version": "3.9.13"
  }
 },
 "nbformat": 4,
 "nbformat_minor": 1
}
